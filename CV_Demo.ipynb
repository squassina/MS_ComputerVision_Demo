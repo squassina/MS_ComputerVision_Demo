{
 "cells": [
  {
   "cell_type": "markdown",
   "metadata": {},
   "source": [
    "https://eastus.dev.cognitive.microsoft.com/docs/services/5cd27ec07268f6c679a3e641/operations/587f2c6a1540550560080311"
   ]
  },
  {
   "cell_type": "code",
   "execution_count": 1,
   "metadata": {},
   "outputs": [],
   "source": [
    "import http.client, urllib.request, urllib.parse, urllib.error, base64, json, time, requests, os"
   ]
  },
  {
   "cell_type": "markdown",
   "metadata": {},
   "source": [
    "### Imagem na web"
   ]
  },
  {
   "cell_type": "code",
   "execution_count": 2,
   "metadata": {},
   "outputs": [],
   "source": [
    "headers = {\n",
    "    # Request headers\n",
    "    'Content-Type': 'application/json',\n",
    "    'Ocp-Apim-Subscription-Key': os.environ['OCP_APIM_SUBSCRIPTION_KEY'],\n",
    "}"
   ]
  },
  {
   "cell_type": "code",
   "execution_count": 3,
   "metadata": {},
   "outputs": [],
   "source": [
    "params = urllib.parse.urlencode({\n",
    "    'language': 'pt',\n",
    "    'detectOrientation': 'true'\n",
    "})\n"
   ]
  },
  {
   "cell_type": "code",
   "execution_count": 4,
   "metadata": {},
   "outputs": [
    {
     "name": "stdout",
     "output_type": "stream",
     "text": [
      "b'{\"language\":\"pt\",\"textAngle\":0.0,\"orientation\":\"Up\",\"regions\":[{\"boundingBox\":\"282,67,1208,2008\",\"lines\":[{\"boundingBox\":\"838,67,57,23\",\"words\":[{\"boundingBox\":\"838,67,57,23\",\"text\":\"-2-\"}]},{\"boundingBox\":\"841,119,274,27\",\"words\":[{\"boundingBox\":\"841,120,138,26\",\"text\":\"February\"},{\"boundingBox\":\"999,120,13,21\",\"text\":\"3\"},{\"boundingBox\":\"1017,132,10,12\",\"text\":\"e\"},{\"boundingBox\":\"1050,119,65,22\",\"text\":\"1976\"}]},{\"boundingBox\":\"285,249,468,28\",\"words\":[{\"boundingBox\":\"285,251,34,21\",\"text\":\"An\"},{\"boundingBox\":\"338,252,68,20\",\"text\":\"Open\"},{\"boundingBox\":\"425,252,101,20\",\"text\":\"Letter\"},{\"boundingBox\":\"547,252,32,18\",\"text\":\"to\"},{\"boundingBox\":\"600,249,153,28\",\"text\":\"Hobbyists\"}]},{\"boundingBox\":\"422,347,986,29\",\"words\":[{\"boundingBox\":\"422,354,49,18\",\"text\":\"me,\"},{\"boundingBox\":\"495,349,49,20\",\"text\":\"the\"},{\"boundingBox\":\"560,351,73,18\",\"text\":\"most\"},{\"boundingBox\":\"651,347,136,22\",\"text\":\"critical\"},{\"boundingBox\":\"808,349,84,25\",\"text\":\"thing\"},{\"boundingBox\":\"911,349,33,20\",\"text\":\"in\"},{\"boundingBox\":\"964,349,48,20\",\"text\":\"the\"},{\"boundingBox\":\"1031,349,83,27\",\"text\":\"hobby\"},{\"boundingBox\":\"1131,350,103,19\",\"text\":\"market\"},{\"boundingBox\":\"1254,349,84,26\",\"text\":\"right\"},{\"boundingBox\":\"1356,356,52,15\",\"text\":\"now\"}]},{\"boundingBox\":\"286,380,1099,27\",\"words\":[{\"boundingBox\":\"286,380,32,21\",\"text\":\"is\"},{\"boundingBox\":\"340,381,50,21\",\"text\":\"the\"},{\"boundingBox\":\"408,382,67,21\",\"text\":\"Iack\"},{\"boundingBox\":\"493,382,35,20\",\"text\":\"of\"},{\"boundingBox\":\"546,382,69,25\",\"text\":\"good\"},{\"boundingBox\":\"635,382,135,20\",\"text\":\"software\"},{\"boundingBox\":\"788,387,135,19\",\"text\":\"coursese\"},{\"boundingBox\":\"944,382,84,20\",\"text\":\"books\"},{\"boundingBox\":\"1049,383,49,19\",\"text\":\"and\"},{\"boundingBox\":\"1117,383,135,20\",\"text\":\"software\"},{\"boundingBox\":\"1270,382,115,23\",\"text\":\"itself.\"}]},{\"boundingBox\":\"284,414,1140,27\",\"words\":[{\"boundingBox\":\"284,414,122,20\",\"text\":\"Without\"},{\"boundingBox\":\"425,415,69,24\",\"text\":\"good\"},{\"boundingBox\":\"513,415,138,20\",\"text\":\"software\"},{\"boundingBox\":\"669,415,51,19\",\"text\":\"and\"},{\"boundingBox\":\"738,420,33,15\",\"text\":\"an\"},{\"boundingBox\":\"796,419,86,15\",\"text\":\"owner\"},{\"boundingBox\":\"908,415,52,20\",\"text\":\"Who\"},{\"boundingBox\":\"979,415,185,20\",\"text\":\"understands\"},{\"boundingBox\":\"1185,416,199,25\",\"text\":\"prograrming,\"},{\"boundingBox\":\"1407,421,17,15\",\"text\":\"a\"}]},{\"boundingBox\":\"286,446,1156,27\",\"words\":[{\"boundingBox\":\"286,447,85,25\",\"text\":\"hobby\"},{\"boundingBox\":\"389,449,137,23\",\"text\":\"computer\"},{\"boundingBox\":\"546,446,34,20\",\"text\":\"is\"},{\"boundingBox\":\"597,447,118,20\",\"text\":\"wasted.\"},{\"boundingBox\":\"753,447,68,20\",\"text\":\"Will\"},{\"boundingBox\":\"841,447,121,26\",\"text\":\"quality\"},{\"boundingBox\":\"980,448,133,20\",\"text\":\"software\"},{\"boundingBox\":\"1132,448,33,19\",\"text\":\"be\"},{\"boundingBox\":\"1181,447,123,21\",\"text\":\"written\"},{\"boundingBox\":\"1324,449,47,20\",\"text\":\"for\"},{\"boundingBox\":\"1391,449,51,20\",\"text\":\"the\"}]},{\"boundingBox\":\"285,479,224,25\",\"words\":[{\"boundingBox\":\"285,479,86,25\",\"text\":\"hobby\"},{\"boundingBox\":\"386,480,123,19\",\"text\":\"market?\"}]},{\"boundingBox\":\"372,544,1052,28\",\"words\":[{\"boundingBox\":\"372,545,103,20\",\"text\":\"Almost\"},{\"boundingBox\":\"495,549,15,16\",\"text\":\"a\"},{\"boundingBox\":\"527,550,69,20\",\"text\":\"year\"},{\"boundingBox\":\"616,550,64,19\",\"text\":\"ago,\"},{\"boundingBox\":\"703,545,67,22\",\"text\":\"Paul\"},{\"boundingBox\":\"788,544,87,21\",\"text\":\"Allen\"},{\"boundingBox\":\"893,544,50,22\",\"text\":\"and\"},{\"boundingBox\":\"959,546,117,25\",\"text\":\"myself,\"},{\"boundingBox\":\"1100,546,152,25\",\"text\":\"expecting\"},{\"boundingBox\":\"1270,546,50,20\",\"text\":\"the\"},{\"boundingBox\":\"1339,545,85,27\",\"text\":\"hobby\"}]},{\"boundingBox\":\"282,576,1136,27\",\"words\":[{\"boundingBox\":\"282,576,106,21\",\"text\":\"market\"},{\"boundingBox\":\"408,578,33,19\",\"text\":\"to\"},{\"boundingBox\":\"460,577,114,25\",\"text\":\"expand,\"},{\"boundingBox\":\"599,577,31,20\",\"text\":\"hi\"},{\"boundingBox\":\"634,577,50,21\",\"text\":\"red\"},{\"boundingBox\":\"701,578,87,20\",\"text\":\"Monte\"},{\"boundingBox\":\"805,577,138,21\",\"text\":\"Davidoff\"},{\"boundingBox\":\"961,578,51,20\",\"text\":\"and\"},{\"boundingBox\":\"1029,578,154,25\",\"text\":\"developed\"},{\"boundingBox\":\"1199,578,102,21\",\"text\":\"Altair\"},{\"boundingBox\":\"1321,580,97,19\",\"text\":\"BASIC.\"}]},{\"boundingBox\":\"286,608,1136,27\",\"words\":[{\"boundingBox\":\"286,609,104,25\",\"text\":\"Though\"},{\"boundingBox\":\"408,609,49,20\",\"text\":\"the\"},{\"boundingBox\":\"476,608,120,21\",\"text\":\"initial\"},{\"boundingBox\":\"614,610,70,20\",\"text\":\"work\"},{\"boundingBox\":\"704,610,65,20\",\"text\":\"took\"},{\"boundingBox\":\"788,610,69,25\",\"text\":\"only\"},{\"boundingBox\":\"876,611,50,19\",\"text\":\"two\"},{\"boundingBox\":\"942,611,116,22\",\"text\":\"months,\"},{\"boundingBox\":\"1083,611,47,19\",\"text\":\"the\"},{\"boundingBox\":\"1149,611,84,20\",\"text\":\"three\"},{\"boundingBox\":\"1252,612,32,19\",\"text\":\"of\"},{\"boundingBox\":\"1304,617,32,15\",\"text\":\"us\"},{\"boundingBox\":\"1356,612,66,20\",\"text\":\"have\"}]},{\"boundingBox\":\"287,642,1134,27\",\"words\":[{\"boundingBox\":\"287,643,85,24\",\"text\":\"spent\"},{\"boundingBox\":\"388,643,70,19\",\"text\":\"most\"},{\"boundingBox\":\"476,642,34,20\",\"text\":\"of\"},{\"boundingBox\":\"529,642,49,20\",\"text\":\"t:he\"},{\"boundingBox\":\"599,642,69,20\",\"text\":\"last\"},{\"boundingBox\":\"684,648,67,20\",\"text\":\"year\"},{\"boundingBox\":\"771,643,201,25\",\"text\":\"documenting,\"},{\"boundingBox\":\"997,642,151,26\",\"text\":\"improving\"},{\"boundingBox\":\"1164,644,52,20\",\"text\":\"and\"},{\"boundingBox\":\"1234,643,103,26\",\"text\":\"adding\"},{\"boundingBox\":\"1357,645,64,19\",\"text\":\"fea\\xe2\\x80\\x94\"}]},{\"boundingBox\":\"286,675,1133,25\",\"words\":[{\"boundingBox\":\"286,675,85,19\",\"text\":\"tures\"},{\"boundingBox\":\"391,676,32,18\",\"text\":\"to\"},{\"boundingBox\":\"442,676,98,19\",\"text\":\"BASIC.\"},{\"boundingBox\":\"580,677,53,19\",\"text\":\"Now\"},{\"boundingBox\":\"649,680,34,15\",\"text\":\"we\"},{\"boundingBox\":\"702,675,67,21\",\"text\":\"have\"},{\"boundingBox\":\"788,676,46,23\",\"text\":\"4K,\"},{\"boundingBox\":\"858,676,45,23\",\"text\":\"BK,\"},{\"boundingBox\":\"927,678,149,22\",\"text\":\"EXTENDED,\"},{\"boundingBox\":\"1098,678,52,18\",\"text\":\"ROM\"},{\"boundingBox\":\"1165,677,50,19\",\"text\":\"and\"},{\"boundingBox\":\"1234,678,69,19\",\"text\":\"DISK\"},{\"boundingBox\":\"1321,679,98,20\",\"text\":\"BASIC.\"}]},{\"boundingBox\":\"287,707,1028,27\",\"words\":[{\"boundingBox\":\"287,708,52,20\",\"text\":\"The\"},{\"boundingBox\":\"354,708,86,20\",\"text\":\"value\"},{\"boundingBox\":\"458,708,34,20\",\"text\":\"of\"},{\"boundingBox\":\"512,707,51,21\",\"text\":\"the\"},{\"boundingBox\":\"580,710,137,23\",\"text\":\"computer\"},{\"boundingBox\":\"738,708,66,20\",\"text\":\"time\"},{\"boundingBox\":\"820,715,37,14\",\"text\":\"we\"},{\"boundingBox\":\"876,709,66,20\",\"text\":\"have\"},{\"boundingBox\":\"961,709,68,21\",\"text\":\"used\"},{\"boundingBox\":\"1047,710,117,20\",\"text\":\"exceeds\"},{\"boundingBox\":\"1185,710,60,24\",\"text\":\"$40,\"},{\"boundingBox\":\"1252,711,63,20\",\"text\":\"000.\"}]},{\"boundingBox\":\"372,773,1015,27\",\"words\":[{\"boundingBox\":\"372,773,51,20\",\"text\":\"The\"},{\"boundingBox\":\"444,773,135,21\",\"text\":\"feedback\"},{\"boundingBox\":\"596,778,35,16\",\"text\":\"we\"},{\"boundingBox\":\"651,774,67,20\",\"text\":\"have\"},{\"boundingBox\":\"737,776,103,23\",\"text\":\"gotten\"},{\"boundingBox\":\"860,775,66,20\",\"text\":\"from\"},{\"boundingBox\":\"945,774,49,20\",\"text\":\"the\"},{\"boundingBox\":\"1013,774,135,21\",\"text\":\"hundreds\"},{\"boundingBox\":\"1165,774,33,20\",\"text\":\"of\"},{\"boundingBox\":\"1217,775,102,25\",\"text\":\"people\"},{\"boundingBox\":\"1335,775,52,21\",\"text\":\"Who\"}]},{\"boundingBox\":\"287,806,1084,27\",\"words\":[{\"boundingBox\":\"287,811,51,20\",\"text\":\"say\"},{\"boundingBox\":\"357,806,67,26\",\"text\":\"they\"},{\"boundingBox\":\"442,811,50,16\",\"text\":\"are\"},{\"boundingBox\":\"511,806,87,25\",\"text\":\"using\"},{\"boundingBox\":\"617,808,83,19\",\"text\":\"BASIC\"},{\"boundingBox\":\"720,807,49,20\",\"text\":\"has\"},{\"boundingBox\":\"788,806,50,21\",\"text\":\"all\"},{\"boundingBox\":\"856,807,70,20\",\"text\":\"been\"},{\"boundingBox\":\"944,806,148,26\",\"text\":\"positive.\"},{\"boundingBox\":\"1200,808,171,25\",\"text\":\"surprising\"}]},{\"boundingBox\":\"287,838,496,26\",\"words\":[{\"boundingBox\":\"287,838,101,25\",\"text\":\"things\"},{\"boundingBox\":\"407,843,50,15\",\"text\":\"are\"},{\"boundingBox\":\"476,840,150,24\",\"text\":\"apparent,\"},{\"boundingBox\":\"651,840,117,19\",\"text\":\"however\"},{\"boundingBox\":\"775,853,8,7\",\"text\":\".\"}]},{\"boundingBox\":\"824,838,632,28\",\"words\":[{\"boundingBox\":\"824,838,27,26\",\"text\":\"1)\"},{\"boundingBox\":\"873,841,70,19\",\"text\":\"Most\"},{\"boundingBox\":\"960,840,34,20\",\"text\":\"of\"},{\"boundingBox\":\"1013,840,84,20\",\"text\":\"these\"},{\"boundingBox\":\"1116,840,113,21\",\"text\":\"\\'Susers\\\\\"\"},{\"boundingBox\":\"1250,845,85,15\",\"text\":\"never\"},{\"boundingBox\":\"1352,841,104,25\",\"text\":\"bought\"}]},{\"boundingBox\":\"286,870,1118,28\",\"words\":[{\"boundingBox\":\"286,872,85,19\",\"text\":\"BASIC\"},{\"boundingBox\":\"397,870,76,24\",\"text\":\"(less\"},{\"boundingBox\":\"494,872,68,19\",\"text\":\"than\"},{\"boundingBox\":\"582,872,53,22\",\"text\":\"1094\"},{\"boundingBox\":\"650,872,33,20\",\"text\":\"of\"},{\"boundingBox\":\"703,872,50,21\",\"text\":\"all\"},{\"boundingBox\":\"770,872,102,21\",\"text\":\"Altair\"},{\"boundingBox\":\"892,877,101,16\",\"text\":\"O\\'.\\xe2\\x80\\xa2.\\'ncrc\"},{\"boundingBox\":\"1013,873,66,19\",\"text\":\"havc\"},{\"boundingBox\":\"1098,873,101,25\",\"text\":\"bought\"},{\"boundingBox\":\"1217,872,95,26\",\"text\":\"BASIC)\"},{\"boundingBox\":\"1323,886,8,10\",\"text\":\",\"},{\"boundingBox\":\"1353,873,51,21\",\"text\":\"and\"}]},{\"boundingBox\":\"286,903,1151,29\",\"words\":[{\"boundingBox\":\"286,903,27,24\",\"text\":\"2)\"},{\"boundingBox\":\"339,904,49,20\",\"text\":\"The\"},{\"boundingBox\":\"407,905,102,19\",\"text\":\"amount\"},{\"boundingBox\":\"528,904,34,20\",\"text\":\"of\"},{\"boundingBox\":\"581,904,155,26\",\"text\":\"royalties\"},{\"boundingBox\":\"752,911,36,14\",\"text\":\"we\"},{\"boundingBox\":\"806,905,67,20\",\"text\":\"have\"},{\"boundingBox\":\"893,905,137,20\",\"text\":\"received\"},{\"boundingBox\":\"1049,906,65,20\",\"text\":\"from\"},{\"boundingBox\":\"1132,905,82,21\",\"text\":\"sales\"},{\"boundingBox\":\"1234,908,32,18\",\"text\":\"to\"},{\"boundingBox\":\"1285,905,152,27\",\"text\":\"hobbyists\"}]},{\"boundingBox\":\"282,936,1101,27\",\"words\":[{\"boundingBox\":\"282,937,89,20\",\"text\":\"makes\"},{\"boundingBox\":\"391,937,48,20\",\"text\":\"the\"},{\"boundingBox\":\"460,936,67,21\",\"text\":\"time\"},{\"boundingBox\":\"546,939,86,23\",\"text\":\"spent\"},{\"boundingBox\":\"650,938,33,20\",\"text\":\"of\"},{\"boundingBox\":\"701,937,102,21\",\"text\":\"Altair\"},{\"boundingBox\":\"824,939,83,20\",\"text\":\"BASIC\"},{\"boundingBox\":\"925,938,87,21\",\"text\":\"worth\"},{\"boundingBox\":\"1030,938,66,21\",\"text\":\"less\"},{\"boundingBox\":\"1116,938,66,21\",\"text\":\"than\"},{\"boundingBox\":\"1201,937,29,26\",\"text\":\"$2\"},{\"boundingBox\":\"1251,944,33,14\",\"text\":\"an\"},{\"boundingBox\":\"1303,938,65,21\",\"text\":\"hour\"},{\"boundingBox\":\"1375,953,8,6\",\"text\":\".\"}]},{\"boundingBox\":\"370,1000,1069,28\",\"words\":[{\"boundingBox\":\"370,1002,54,25\",\"text\":\"Why\"},{\"boundingBox\":\"443,1000,32,22\",\"text\":\"is\"},{\"boundingBox\":\"494,1001,85,23\",\"text\":\"this?\"},{\"boundingBox\":\"615,1004,34,19\",\"text\":\"As\"},{\"boundingBox\":\"670,1003,49,19\",\"text\":\"the\"},{\"boundingBox\":\"734,1002,140,26\",\"text\":\"majority\"},{\"boundingBox\":\"891,1002,33,21\",\"text\":\"of\"},{\"boundingBox\":\"944,1002,152,26\",\"text\":\"hobbyists\"},{\"boundingBox\":\"1111,1005,69,19\",\"text\":\"must\"},{\"boundingBox\":\"1197,1002,35,21\",\"text\":\"be\"},{\"boundingBox\":\"1250,1009,97,18\",\"text\":\"aware,\"},{\"boundingBox\":\"1368,1005,71,19\",\"text\":\"most\"}]},{\"boundingBox\":\"285,1034,1118,27\",\"words\":[{\"boundingBox\":\"285,1034,35,19\",\"text\":\"of\"},{\"boundingBox\":\"337,1038,51,21\",\"text\":\"you\"},{\"boundingBox\":\"408,1034,84,20\",\"text\":\"stea1\"},{\"boundingBox\":\"509,1039,68,20\",\"text\":\"your\"},{\"boundingBox\":\"599,1035,149,21\",\"text\":\"software.\"},{\"boundingBox\":\"789,1035,136,20\",\"text\":\"Hardware\"},{\"boundingBox\":\"941,1037,70,19\",\"text\":\"must\"},{\"boundingBox\":\"1028,1036,34,20\",\"text\":\"be\"},{\"boundingBox\":\"1081,1035,66,26\",\"text\":\"paid\"},{\"boundingBox\":\"1166,1036,65,22\",\"text\":\"for.\"},{\"boundingBox\":\"1248,1035,54,21\",\"text\":\"but\"},{\"boundingBox\":\"1316,1036,87,21\",\"text\":\"soft\\xe2\\x80\\x94\"}]},{\"boundingBox\":\"283,1066,1139,29\",\"words\":[{\"boundingBox\":\"283,1071,71,16\",\"text\":\"ware\"},{\"boundingBox\":\"372,1066,33,21\",\"text\":\"is\"},{\"boundingBox\":\"425,1066,155,26\",\"text\":\"something\"},{\"boundingBox\":\"599,1068,34,19\",\"text\":\"to\"},{\"boundingBox\":\"652,1067,100,21\",\"text\":\"share.\"},{\"boundingBox\":\"786,1068,53,20\",\"text\":\"Who\"},{\"boundingBox\":\"857,1072,85,16\",\"text\":\"cares\"},{\"boundingBox\":\"961,1067,15,21\",\"text\":\"i\"},{\"boundingBox\":\"980,1068,14,20\",\"text\":\"f\"},{\"boundingBox\":\"1013,1068,49,20\",\"text\":\"the\"},{\"boundingBox\":\"1080,1068,100,27\",\"text\":\"people\"},{\"boundingBox\":\"1196,1068,53,20\",\"text\":\"Who\"},{\"boundingBox\":\"1265,1068,106,20\",\"text\":\"worked\"},{\"boundingBox\":\"1388,1073,34,15\",\"text\":\"on\"}]},{\"boundingBox\":\"287,1098,205,27\",\"words\":[{\"boundingBox\":\"287,1098,32,20\",\"text\":\"it\"},{\"boundingBox\":\"339,1101,50,22\",\"text\":\"get\"},{\"boundingBox\":\"407,1098,85,27\",\"text\":\"paid?\"}]},{\"boundingBox\":\"424,1163,996,28\",\"words\":[{\"boundingBox\":\"424,1163,67,21\",\"text\":\"this\"},{\"boundingBox\":\"512,1163,84,21\",\"text\":\"fair?\"},{\"boundingBox\":\"631,1167,52,18\",\"text\":\"One\"},{\"boundingBox\":\"704,1165,83,25\",\"text\":\"thing\"},{\"boundingBox\":\"804,1170,51,20\",\"text\":\"you\"},{\"boundingBox\":\"874,1166,85,20\",\"text\":\"don\\'t\"},{\"boundingBox\":\"977,1166,34,20\",\"text\":\"do\"},{\"boundingBox\":\"1028,1166,35,24\",\"text\":\"by\"},{\"boundingBox\":\"1082,1165,134,26\",\"text\":\"stealing\"},{\"boundingBox\":\"1234,1166,136,20\",\"text\":\"software\"},{\"boundingBox\":\"1388,1165,32,21\",\"text\":\"is\"}]},{\"boundingBox\":\"286,1196,1117,27\",\"words\":[{\"boundingBox\":\"286,1198,52,23\",\"text\":\"get\"},{\"boundingBox\":\"355,1196,67,20\",\"text\":\"back\"},{\"boundingBox\":\"442,1198,33,18\",\"text\":\"at\"},{\"boundingBox\":\"492,1199,68,18\",\"text\":\"MITS\"},{\"boundingBox\":\"583,1197,46,20\",\"text\":\"for\"},{\"boundingBox\":\"652,1201,66,16\",\"text\":\"some\"},{\"boundingBox\":\"737,1198,120,24\",\"text\":\"problem\"},{\"boundingBox\":\"872,1202,52,21\",\"text\":\"you\"},{\"boundingBox\":\"941,1202,53,21\",\"text\":\"may\"},{\"boundingBox\":\"1013,1198,66,20\",\"text\":\"have\"},{\"boundingBox\":\"1098,1198,61,20\",\"text\":\"had.\"},{\"boundingBox\":\"1197,1200,68,18\",\"text\":\"MITS\"},{\"boundingBox\":\"1284,1199,96,19\",\"text\":\"doesn\\'\"},{\"boundingBox\":\"1388,1200,15,18\",\"text\":\"t\"}]},{\"boundingBox\":\"284,1229,1114,27\",\"words\":[{\"boundingBox\":\"284,1229,71,19\",\"text\":\"make\"},{\"boundingBox\":\"371,1234,87,20\",\"text\":\"money\"},{\"boundingBox\":\"477,1229,121,25\",\"text\":\"selling\"},{\"boundingBox\":\"616,1230,149,20\",\"text\":\"software.\"},{\"boundingBox\":\"805,1230,57,21\",\"text\":\"The-\"},{\"boundingBox\":\"874,1231,121,25\",\"text\":\"royalty\"},{\"boundingBox\":\"1013,1230,67,25\",\"text\":\"paid\"},{\"boundingBox\":\"1100,1233,29,17\",\"text\":\"to\"},{\"boundingBox\":\"1148,1236,44,18\",\"text\":\"us,\"},{\"boundingBox\":\"1216,1231,49,20\",\"text\":\"the\"},{\"boundingBox\":\"1282,1231,116,23\",\"text\":\"manual,\"}]},{\"boundingBox\":\"286,1261,1170,27\",\"words\":[{\"boundingBox\":\"286,1261,51,19\",\"text\":\"the\"},{\"boundingBox\":\"356,1263,66,23\",\"text\":\"tape\"},{\"boundingBox\":\"442,1262,52,20\",\"text\":\"and\"},{\"boundingBox\":\"512,1262,49,20\",\"text\":\"the\"},{\"boundingBox\":\"580,1263,138,19\",\"text\":\"overhead\"},{\"boundingBox\":\"734,1263,69,20\",\"text\":\"make\"},{\"boundingBox\":\"822,1262,34,21\",\"text\":\"it\"},{\"boundingBox\":\"875,1268,15,14\",\"text\":\"a\"},{\"boundingBox\":\"908,1263,173,19\",\"text\":\"break\\xe2\\x80\\x94even\"},{\"boundingBox\":\"1098,1262,164,25\",\"text\":\"operation.\"},{\"boundingBox\":\"1301,1264,50,18\",\"text\":\"One\"},{\"boundingBox\":\"1370,1262,86,26\",\"text\":\"thing\"}]},{\"boundingBox\":\"284,1294,1152,27\",\"words\":[{\"boundingBox\":\"284,1299,54,20\",\"text\":\"you\"},{\"boundingBox\":\"356,1294,32,20\",\"text\":\"do\"},{\"boundingBox\":\"407,1295,32,19\",\"text\":\"do\"},{\"boundingBox\":\"459,1294,32,21\",\"text\":\"is\"},{\"boundingBox\":\"511,1297,120,23\",\"text\":\"prevent\"},{\"boundingBox\":\"650,1296,69,24\",\"text\":\"good\"},{\"boundingBox\":\"738,1296,135,20\",\"text\":\"software\"},{\"boundingBox\":\"893,1296,67,20\",\"text\":\"from\"},{\"boundingBox\":\"977,1295,87,26\",\"text\":\"being\"},{\"boundingBox\":\"1079,1296,132,20\",\"text\":\"written.\"},{\"boundingBox\":\"1248,1297,52,20\",\"text\":\"Who\"},{\"boundingBox\":\"1317,1301,53,15\",\"text\":\"can\"},{\"boundingBox\":\"1387,1297,49,20\",\"text\":\"af\\xe2\\x80\\x94\"}]},{\"boundingBox\":\"287,1327,1099,27\",\"words\":[{\"boundingBox\":\"287,1327,68,20\",\"text\":\"ford\"},{\"boundingBox\":\"374,1328,31,19\",\"text\":\"to\"},{\"boundingBox\":\"424,1328,32,19\",\"text\":\"do\"},{\"boundingBox\":\"476,1327,208,25\",\"text\":\"professional\"},{\"boundingBox\":\"700,1329,69,19\",\"text\":\"work\"},{\"boundingBox\":\"789,1329,47,19\",\"text\":\"for\"},{\"boundingBox\":\"856,1328,137,25\",\"text\":\"nothing?\"},{\"boundingBox\":\"1028,1329,68,20\",\"text\":\"What\"},{\"boundingBox\":\"1113,1328,136,26\",\"text\":\"hobbyist\"},{\"boundingBox\":\"1267,1334,51,15\",\"text\":\"can\"},{\"boundingBox\":\"1335,1331,51,23\",\"text\":\"put\"}]},{\"boundingBox\":\"287,1360,1165,27\",\"words\":[{\"boundingBox\":\"287,1360,85,19\",\"text\":\"3\\xe2\\x80\\x94man\"},{\"boundingBox\":\"389,1365,84,20\",\"text\":\"years\"},{\"boundingBox\":\"493,1360,68,21\",\"text\":\"into\"},{\"boundingBox\":\"581,1361,200,25\",\"text\":\"programming,\"},{\"boundingBox\":\"807,1361,119,25\",\"text\":\"finding\"},{\"boundingBox\":\"944,1361,51,20\",\"text\":\"all\"},{\"boundingBox\":\"1012,1361,79,25\",\"text\":\"bugs,\"},{\"boundingBox\":\"1114,1361,187,26\",\"text\":\"documenting\"},{\"boundingBox\":\"1319,1361,49,21\",\"text\":\"his\"},{\"boundingBox\":\"1387,1367,65,20\",\"text\":\"pro\\xe2\\x80\\x94\"}]},{\"boundingBox\":\"285,1392,1117,26\",\"words\":[{\"boundingBox\":\"285,1392,70,20\",\"text\":\"duct\"},{\"boundingBox\":\"373,1392,50,20\",\"text\":\"and\"},{\"boundingBox\":\"441,1392,172,21\",\"text\":\"distribute\"},{\"boundingBox\":\"634,1394,48,19\",\"text\":\"for\"},{\"boundingBox\":\"704,1394,82,19\",\"text\":\"free?\"},{\"boundingBox\":\"821,1394,52,20\",\"text\":\"The\"},{\"boundingBox\":\"894,1394,65,19\",\"text\":\"fact\"},{\"boundingBox\":\"978,1393,14,21\",\"text\":\"i\"},{\"boundingBox\":\"996,1400,27,18\",\"text\":\"s,\"},{\"boundingBox\":\"1046,1399,33,15\",\"text\":\"no\"},{\"boundingBox\":\"1097,1399,50,15\",\"text\":\"one\"},{\"boundingBox\":\"1164,1393,118,21\",\"text\":\"besides\"},{\"boundingBox\":\"1301,1399,32,15\",\"text\":\"us\"},{\"boundingBox\":\"1353,1394,49,20\",\"text\":\"has\"}]},{\"boundingBox\":\"286,1424,1099,27\",\"words\":[{\"boundingBox\":\"286,1424,138,20\",\"text\":\"invested\"},{\"boundingBox\":\"441,1430,16,15\",\"text\":\"a\"},{\"boundingBox\":\"477,1425,49,20\",\"text\":\"Iot\"},{\"boundingBox\":\"543,1426,35,20\",\"text\":\"Of\"},{\"boundingBox\":\"594,1431,90,20\",\"text\":\"money\"},{\"boundingBox\":\"702,1424,34,21\",\"text\":\"in\"},{\"boundingBox\":\"754,1425,84,26\",\"text\":\"hobby\"},{\"boundingBox\":\"858,1427,148,19\",\"text\":\"software.\"},{\"boundingBox\":\"1044,1428,35,19\",\"text\":\"We\"},{\"boundingBox\":\"1097,1426,66,20\",\"text\":\"have\"},{\"boundingBox\":\"1180,1426,121,20\",\"text\":\"written\"},{\"boundingBox\":\"1319,1426,66,20\",\"text\":\"6800\"}]},{\"boundingBox\":\"287,1457,1165,27\",\"words\":[{\"boundingBox\":\"287,1458,97,22\",\"text\":\"BASIC,\"},{\"boundingBox\":\"408,1457,49,20\",\"text\":\"and\"},{\"boundingBox\":\"476,1463,50,15\",\"text\":\"are\"},{\"boundingBox\":\"543,1457,124,26\",\"text\":\"wr\\xc2\\xb1ting\"},{\"boundingBox\":\"685,1459,66,19\",\"text\":\"8080\"},{\"boundingBox\":\"769,1460,53,19\",\"text\":\"APL\"},{\"boundingBox\":\"840,1459,50,20\",\"text\":\"and\"},{\"boundingBox\":\"910,1459,65,20\",\"text\":\"6800\"},{\"boundingBox\":\"993,1461,65,21\",\"text\":\"APL,\"},{\"boundingBox\":\"1079,1459,49,20\",\"text\":\"but\"},{\"boundingBox\":\"1150,1459,81,20\",\"text\":\"there\"},{\"boundingBox\":\"1250,1458,32,22\",\"text\":\"is\"},{\"boundingBox\":\"1301,1464,68,20\",\"text\":\"very\"},{\"boundingBox\":\"1388,1458,30,21\",\"text\":\"li\"},{\"boundingBox\":\"1422,1460,30,19\",\"text\":\"t\\xe2\\x80\\x94\"}]},{\"boundingBox\":\"287,1489,1116,28\",\"words\":[{\"boundingBox\":\"287,1491,15,18\",\"text\":\"t\"},{\"boundingBox\":\"304,1489,33,20\",\"text\":\"Ie\"},{\"boundingBox\":\"356,1489,152,22\",\"text\":\"incentive\"},{\"boundingBox\":\"529,1492,31,18\",\"text\":\"to\"},{\"boundingBox\":\"577,1491,72,20\",\"text\":\"make\"},{\"boundingBox\":\"669,1490,65,21\",\"text\":\"this\"},{\"boundingBox\":\"755,1491,135,20\",\"text\":\"software\"},{\"boundingBox\":\"908,1491,153,21\",\"text\":\"available\"},{\"boundingBox\":\"1081,1492,31,19\",\"text\":\"to\"},{\"boundingBox\":\"1130,1490,166,27\",\"text\":\"hobbyists.\"},{\"boundingBox\":\"1334,1492,69,20\",\"text\":\"Most\"}]},{\"boundingBox\":\"285,1521,618,29\",\"words\":[{\"boundingBox\":\"285,1521,150,29\",\"text\":\"directly,\"},{\"boundingBox\":\"460,1523,48,20\",\"text\":\"the\"},{\"boundingBox\":\"528,1523,87,26\",\"text\":\"thing\"},{\"boundingBox\":\"631,1528,52,22\",\"text\":\"you\"},{\"boundingBox\":\"701,1524,33,20\",\"text\":\"do\"},{\"boundingBox\":\"753,1523,32,21\",\"text\":\"is\"},{\"boundingBox\":\"806,1524,97,20\",\"text\":\"thefta\"}]},{\"boundingBox\":\"372,1588,1064,27\",\"words\":[{\"boundingBox\":\"372,1588,70,20\",\"text\":\"What\"},{\"boundingBox\":\"458,1589,85,20\",\"text\":\"about\"},{\"boundingBox\":\"563,1589,51,20\",\"text\":\"the\"},{\"boundingBox\":\"632,1595,68,20\",\"text\":\"guys\"},{\"boundingBox\":\"717,1590,52,20\",\"text\":\"Who\"},{\"boundingBox\":\"788,1590,119,21\",\"text\":\"re\\xe2\\x80\\x94se11\"},{\"boundingBox\":\"925,1589,102,21\",\"text\":\"Altair\"},{\"boundingBox\":\"1047,1592,94,21\",\"text\":\"BASIC,\"},{\"boundingBox\":\"1165,1590,100,20\",\"text\":\"arenit\"},{\"boundingBox\":\"1286,1590,66,25\",\"text\":\"they\"},{\"boundingBox\":\"1368,1590,68,20\",\"text\":\"mak\\xe2\\x80\\x94\"}]},{\"boundingBox\":\"286,1619,1152,29\",\"words\":[{\"boundingBox\":\"286,1619,53,26\",\"text\":\"ing\"},{\"boundingBox\":\"354,1626,86,20\",\"text\":\"money\"},{\"boundingBox\":\"458,1626,34,15\",\"text\":\"on\"},{\"boundingBox\":\"511,1622,86,26\",\"text\":\"hobby\"},{\"boundingBox\":\"616,1623,153,19\",\"text\":\"software?\"},{\"boundingBox\":\"803,1624,65,22\",\"text\":\"Yes,\"},{\"boundingBox\":\"890,1622,52,21\",\"text\":\"but\"},{\"boundingBox\":\"961,1623,88,21\",\"text\":\"those\\xe2\\x80\\xa2\"},{\"boundingBox\":\"1062,1623,50,19\",\"text\":\"Who\"},{\"boundingBox\":\"1130,1622,66,20\",\"text\":\"have\"},{\"boundingBox\":\"1214,1622,69,21\",\"text\":\"been\"},{\"boundingBox\":\"1302,1626,82,21\",\"text\":\"repor\"},{\"boundingBox\":\"1389,1622,49,20\",\"text\":\"ted\"}]},{\"boundingBox\":\"289,1657,1134,28\",\"words\":[{\"boundingBox\":\"289,1658,34,19\",\"text\":\"to\"},{\"boundingBox\":\"341,1662,34,16\",\"text\":\"us\"},{\"boundingBox\":\"391,1662,52,21\",\"text\":\"may\"},{\"boundingBox\":\"463,1657,67,21\",\"text\":\"10se\"},{\"boundingBox\":\"548,1657,35,22\",\"text\":\"in\"},{\"boundingBox\":\"602,1658,50,21\",\"text\":\"the\"},{\"boundingBox\":\"671,1658,63,20\",\"text\":\"end.\"},{\"boundingBox\":\"774,1659,67,26\",\"text\":\"They\"},{\"boundingBox\":\"860,1663,50,15\",\"text\":\"are\"},{\"boundingBox\":\"929,1658,50,20\",\"text\":\"the\"},{\"boundingBox\":\"997,1662,67,16\",\"text\":\"ones\"},{\"boundingBox\":\"1081,1658,50,20\",\"text\":\"Who\"},{\"boundingBox\":\"1150,1657,67,26\",\"text\":\"give\"},{\"boundingBox\":\"1236,1657,152,25\",\"text\":\"hobbyists\"},{\"boundingBox\":\"1407,1662,16,15\",\"text\":\"a\"}]},{\"boundingBox\":\"288,1695,1156,26\",\"words\":[{\"boundingBox\":\"288,1696,52,19\",\"text\":\"bad\"},{\"boundingBox\":\"358,1701,80,18\",\"text\":\"nane,\"},{\"boundingBox\":\"462,1696,50,20\",\"text\":\"and\"},{\"boundingBox\":\"532,1696,99,21\",\"text\":\"should\"},{\"boundingBox\":\"649,1696,34,20\",\"text\":\"be\"},{\"boundingBox\":\"700,1695,104,21\",\"text\":\"kicked\"},{\"boundingBox\":\"821,1698,52,18\",\"text\":\"out\"},{\"boundingBox\":\"892,1696,33,20\",\"text\":\"of\"},{\"boundingBox\":\"944,1700,50,21\",\"text\":\"any\"},{\"boundingBox\":\"1012,1696,67,20\",\"text\":\"club\"},{\"boundingBox\":\"1096,1696,123,24\",\"text\":\"meeting\"},{\"boundingBox\":\"1238,1696,66,25\",\"text\":\"they\"},{\"boundingBox\":\"1324,1696,68,21\",\"text\":\"show\"},{\"boundingBox\":\"1408,1701,36,19\",\"text\":\"up\"}]},{\"boundingBox\":\"290,1729,46,20\",\"words\":[{\"boundingBox\":\"290,1729,46,20\",\"text\":\"at.\"}]},{\"boundingBox\":\"376,1793,1083,26\",\"words\":[{\"boundingBox\":\"376,1795,14,19\",\"text\":\"I\"},{\"boundingBox\":\"408,1793,88,21\",\"text\":\"would\"},{\"boundingBox\":\"514,1793,169,26\",\"text\":\"appreciate\"},{\"boundingBox\":\"702,1793,118,24\",\"text\":\"letters\"},{\"boundingBox\":\"842,1793,66,21\",\"text\":\"from\"},{\"boundingBox\":\"927,1799,50,20\",\"text\":\"any\"},{\"boundingBox\":\"994,1798,50,16\",\"text\":\"one\"},{\"boundingBox\":\"1061,1794,53,20\",\"text\":\"Who\"},{\"boundingBox\":\"1130,1795,87,19\",\"text\":\"wants\"},{\"boundingBox\":\"1238,1795,32,18\",\"text\":\"to\"},{\"boundingBox\":\"1289,1799,51,20\",\"text\":\"pay\"},{\"boundingBox\":\"1357,1799,45,20\",\"text\":\"up,\"},{\"boundingBox\":\"1426,1798,33,16\",\"text\":\"or\"}]},{\"boundingBox\":\"1409,1825,81,25\",\"words\":[{\"boundingBox\":\"1409,1825,81,25\",\"text\":\"\\\\\"114,\"}]},{\"boundingBox\":\"289,1826,1096,25\",\"words\":[{\"boundingBox\":\"289,1826,50,22\",\"text\":\"has\"},{\"boundingBox\":\"358,1831,16,16\",\"text\":\"a\"},{\"boundingBox\":\"394,1826,170,25\",\"text\":\"suggestion\"},{\"boundingBox\":\"581,1831,32,16\",\"text\":\"or\"},{\"boundingBox\":\"633,1828,131,19\",\"text\":\"corrunent.\"},{\"boundingBox\":\"805,1828,69,19\",\"text\":\"Just\"},{\"boundingBox\":\"889,1826,87,20\",\"text\":\"write\"},{\"boundingBox\":\"993,1831,33,15\",\"text\":\"me\"},{\"boundingBox\":\"1046,1827,32,19\",\"text\":\"at\"},{\"boundingBox\":\"1099,1826,66,21\",\"text\":\"1180\"},{\"boundingBox\":\"1184,1826,137,20\",\"text\":\"Alvarado\"},{\"boundingBox\":\"1341,1827,44,23\",\"text\":\"SE,\"}]},{\"boundingBox\":\"289,1858,1136,26\",\"words\":[{\"boundingBox\":\"289,1859,200,25\",\"text\":\"Albuquerque,\"},{\"boundingBox\":\"512,1860,52,19\",\"text\":\"New\"},{\"boundingBox\":\"580,1858,114,24\",\"text\":\"Mexico,\"},{\"boundingBox\":\"720,1859,96,20\",\"text\":\"87108.\"},{\"boundingBox\":\"856,1858,121,25\",\"text\":\"Nothing\"},{\"boundingBox\":\"992,1859,87,19\",\"text\":\"would\"},{\"boundingBox\":\"1217,1863,34,16\",\"text\":\"me\"},{\"boundingBox\":\"1269,1863,70,15\",\"text\":\"more\"},{\"boundingBox\":\"1358,1858,67,20\",\"text\":\"than\"}]},{\"boundingBox\":\"288,1890,1155,27\",\"words\":[{\"boundingBox\":\"288,1890,87,26\",\"text\":\"being\"},{\"boundingBox\":\"393,1891,67,20\",\"text\":\"able\"},{\"boundingBox\":\"480,1892,31,19\",\"text\":\"to\"},{\"boundingBox\":\"530,1890,67,21\",\"text\":\"hire\"},{\"boundingBox\":\"617,1892,50,20\",\"text\":\"ten\"},{\"boundingBox\":\"685,1896,187,21\",\"text\":\"programmers\"},{\"boundingBox\":\"892,1890,51,21\",\"text\":\"and\"},{\"boundingBox\":\"960,1891,102,25\",\"text\":\"deluge\"},{\"boundingBox\":\"1080,1890,51,21\",\"text\":\"the\"},{\"boundingBox\":\"1149,1890,86,26\",\"text\":\"hobby\"},{\"boundingBox\":\"1252,1891,104,20\",\"text\":\"market\"},{\"boundingBox\":\"1372,1890,71,21\",\"text\":\"with\"}]},{\"boundingBox\":\"290,1923,234,25\",\"words\":[{\"boundingBox\":\"290,1923,67,25\",\"text\":\"good\"},{\"boundingBox\":\"376,1924,148,20\",\"text\":\"software.\"}]},{\"boundingBox\":\"854,1952,119,64\",\"words\":[{\"boundingBox\":\"854,1952,119,64\",\"text\":\"BLU\"}]},{\"boundingBox\":\"840,2021,171,21\",\"words\":[{\"boundingBox\":\"840,2021,67,21\",\"text\":\"Bill\"},{\"boundingBox\":\"925,2023,86,19\",\"text\":\"Gates\"}]},{\"boundingBox\":\"840,2048,465,27\",\"words\":[{\"boundingBox\":\"840,2053,120,20\",\"text\":\"General\"},{\"boundingBox\":\"980,2054,129,21\",\"text\":\"Partner,\"},{\"boundingBox\":\"1132,2048,173,24\",\"text\":\"Micro\\xe2\\x80\\x94Soft\"}]}]}]}'\n"
     ]
    }
   ],
   "source": [
    "try:\n",
    "    conn = http.client.HTTPSConnection('brazilsouth.api.cognitive.microsoft.com')\n",
    "    conn.request(\"POST\", \"/vision/v2.1/ocr?%s\" % params, '{\"url\":\"https://upload.wikimedia.org/wikipedia/commons/1/14/Bill_Gates_Letter_to_Hobbyists.jpg\"}', headers)\n",
    "    response = conn.getresponse()\n",
    "    data = response.read()\n",
    "    print(data)\n",
    "    conn.close()\n",
    "except Exception as e:\n",
    "    print(e)\n"
   ]
  },
  {
   "cell_type": "code",
   "execution_count": 5,
   "metadata": {},
   "outputs": [],
   "source": [
    "regions = json.loads(data)"
   ]
  },
  {
   "cell_type": "code",
   "execution_count": 6,
   "metadata": {},
   "outputs": [],
   "source": [
    "text = ''\n",
    "for i1 in range(len(regions['regions'])):\n",
    "    for i2 in range(len(regions['regions'][i1]['lines'])):\n",
    "        for i3 in range(len(regions['regions'][i1]['lines'][i2]['words'])):\n",
    "            text = text + ' ' + regions['regions'][i1]['lines'][i2]['words'][i3]['text']"
   ]
  },
  {
   "cell_type": "code",
   "execution_count": 7,
   "metadata": {},
   "outputs": [
    {
     "name": "stdout",
     "output_type": "stream",
     "text": [
      " -2- February 3 e 1976 An Open Letter to Hobbyists me, the most critical thing in the hobby market right now is the Iack of good software coursese books and software itself. Without good software and an owner Who understands prograrming, a hobby computer is wasted. Will quality software be written for the hobby market? Almost a year ago, Paul Allen and myself, expecting the hobby market to expand, hi red Monte Davidoff and developed Altair BASIC. Though the initial work took only two months, the three of us have spent most of t:he last year documenting, improving and adding fea— tures to BASIC. Now we have 4K, BK, EXTENDED, ROM and DISK BASIC. The value of the computer time we have used exceeds $40, 000. The feedback we have gotten from the hundreds of people Who say they are using BASIC has all been positive. surprising things are apparent, however . 1) Most of these 'Susers\" never bought BASIC (less than 1094 of all Altair O'.•.'ncrc havc bought BASIC) , and 2) The amount of royalties we have received from sales to hobbyists makes the time spent of Altair BASIC worth less than $2 an hour . Why is this? As the majority of hobbyists must be aware, most of you stea1 your software. Hardware must be paid for. but soft— ware is something to share. Who cares i f the people Who worked on it get paid? this fair? One thing you don't do by stealing software is get back at MITS for some problem you may have had. MITS doesn' t make money selling software. The- royalty paid to us, the manual, the tape and the overhead make it a break—even operation. One thing you do do is prevent good software from being written. Who can af— ford to do professional work for nothing? What hobbyist can put 3—man years into programming, finding all bugs, documenting his pro— duct and distribute for free? The fact i s, no one besides us has invested a Iot Of money in hobby software. We have written 6800 BASIC, and are wr±ting 8080 APL and 6800 APL, but there is very li t— t Ie incentive to make this software available to hobbyists. Most directly, the thing you do is thefta What about the guys Who re—se11 Altair BASIC, arenit they mak— ing money on hobby software? Yes, but those• Who have been repor ted to us may 10se in the end. They are the ones Who give hobbyists a bad nane, and should be kicked out of any club meeting they show up at. I would appreciate letters from any one Who wants to pay up, or \"114, has a suggestion or corrunent. Just write me at 1180 Alvarado SE, Albuquerque, New Mexico, 87108. Nothing would me more than being able to hire ten programmers and deluge the hobby market with good software. BLU Bill Gates General Partner, Micro—Soft\n"
     ]
    }
   ],
   "source": [
    "print(text)"
   ]
  },
  {
   "cell_type": "markdown",
   "metadata": {},
   "source": [
    "![figura1](https://upload.wikimedia.org/wikipedia/commons/1/14/Bill_Gates_Letter_to_Hobbyists.jpg)"
   ]
  },
  {
   "cell_type": "markdown",
   "metadata": {},
   "source": [
    "### Imagem local\n"
   ]
  },
  {
   "cell_type": "code",
   "execution_count": 8,
   "metadata": {},
   "outputs": [],
   "source": [
    "params = urllib.parse.urlencode({\n",
    "    'language': 'pt',\n",
    "    'detectOrientation': 'true'\n",
    "})\n"
   ]
  },
  {
   "cell_type": "code",
   "execution_count": 9,
   "metadata": {},
   "outputs": [],
   "source": [
    "headers = {\n",
    "    # Request headers\n",
    "    'Content-Type': 'application/octet-stream',\n",
    "    'Ocp-Apim-Subscription-Key': '9b5dfc92830a4e3ba89d1472ef0b8afb',\n",
    "}"
   ]
  },
  {
   "cell_type": "code",
   "execution_count": 10,
   "metadata": {},
   "outputs": [],
   "source": [
    "# Set image_path to the local path of an image that you want to analyze.\n",
    "image_path = \"./Bill_Gates_Letter_to_Hobbyists.jpg\"\n",
    "\n",
    "# Read the image into a byte array\n",
    "image_data = open(image_path, \"rb\").read()"
   ]
  },
  {
   "cell_type": "code",
   "execution_count": 11,
   "metadata": {},
   "outputs": [
    {
     "name": "stdout",
     "output_type": "stream",
     "text": [
      "b'{\"language\":\"pt\",\"textAngle\":0.0,\"orientation\":\"Up\",\"regions\":[{\"boundingBox\":\"282,67,1208,2008\",\"lines\":[{\"boundingBox\":\"838,67,57,23\",\"words\":[{\"boundingBox\":\"838,67,57,23\",\"text\":\"-2-\"}]},{\"boundingBox\":\"841,119,274,27\",\"words\":[{\"boundingBox\":\"841,120,138,26\",\"text\":\"February\"},{\"boundingBox\":\"999,120,13,21\",\"text\":\"3\"},{\"boundingBox\":\"1017,132,10,12\",\"text\":\"e\"},{\"boundingBox\":\"1050,119,65,22\",\"text\":\"1976\"}]},{\"boundingBox\":\"285,249,468,28\",\"words\":[{\"boundingBox\":\"285,251,34,21\",\"text\":\"An\"},{\"boundingBox\":\"338,252,68,20\",\"text\":\"Open\"},{\"boundingBox\":\"425,252,101,20\",\"text\":\"Letter\"},{\"boundingBox\":\"547,252,32,18\",\"text\":\"to\"},{\"boundingBox\":\"600,249,153,28\",\"text\":\"Hobbyists\"}]},{\"boundingBox\":\"422,347,986,29\",\"words\":[{\"boundingBox\":\"422,354,49,18\",\"text\":\"me,\"},{\"boundingBox\":\"495,349,49,20\",\"text\":\"the\"},{\"boundingBox\":\"560,351,73,18\",\"text\":\"most\"},{\"boundingBox\":\"651,347,136,22\",\"text\":\"critical\"},{\"boundingBox\":\"808,349,84,25\",\"text\":\"thing\"},{\"boundingBox\":\"911,349,33,20\",\"text\":\"in\"},{\"boundingBox\":\"964,349,48,20\",\"text\":\"the\"},{\"boundingBox\":\"1031,349,83,27\",\"text\":\"hobby\"},{\"boundingBox\":\"1131,350,103,19\",\"text\":\"market\"},{\"boundingBox\":\"1254,349,84,26\",\"text\":\"right\"},{\"boundingBox\":\"1356,356,52,15\",\"text\":\"now\"}]},{\"boundingBox\":\"286,380,1099,27\",\"words\":[{\"boundingBox\":\"286,380,32,21\",\"text\":\"is\"},{\"boundingBox\":\"340,381,50,21\",\"text\":\"the\"},{\"boundingBox\":\"408,382,67,21\",\"text\":\"Iack\"},{\"boundingBox\":\"493,382,35,20\",\"text\":\"of\"},{\"boundingBox\":\"546,382,69,25\",\"text\":\"good\"},{\"boundingBox\":\"635,382,135,20\",\"text\":\"software\"},{\"boundingBox\":\"788,387,135,19\",\"text\":\"coursese\"},{\"boundingBox\":\"944,382,84,20\",\"text\":\"books\"},{\"boundingBox\":\"1049,383,49,19\",\"text\":\"and\"},{\"boundingBox\":\"1117,383,135,20\",\"text\":\"software\"},{\"boundingBox\":\"1270,382,115,23\",\"text\":\"itself.\"}]},{\"boundingBox\":\"284,414,1140,27\",\"words\":[{\"boundingBox\":\"284,414,122,20\",\"text\":\"Without\"},{\"boundingBox\":\"425,415,69,24\",\"text\":\"good\"},{\"boundingBox\":\"513,415,138,20\",\"text\":\"software\"},{\"boundingBox\":\"669,415,51,19\",\"text\":\"and\"},{\"boundingBox\":\"738,420,33,15\",\"text\":\"an\"},{\"boundingBox\":\"796,419,86,15\",\"text\":\"owner\"},{\"boundingBox\":\"908,415,52,20\",\"text\":\"Who\"},{\"boundingBox\":\"979,415,185,20\",\"text\":\"understands\"},{\"boundingBox\":\"1185,416,199,25\",\"text\":\"prograrming,\"},{\"boundingBox\":\"1407,421,17,15\",\"text\":\"a\"}]},{\"boundingBox\":\"286,446,1156,27\",\"words\":[{\"boundingBox\":\"286,447,85,25\",\"text\":\"hobby\"},{\"boundingBox\":\"389,449,137,23\",\"text\":\"computer\"},{\"boundingBox\":\"546,446,34,20\",\"text\":\"is\"},{\"boundingBox\":\"597,447,118,20\",\"text\":\"wasted.\"},{\"boundingBox\":\"753,447,68,20\",\"text\":\"Will\"},{\"boundingBox\":\"841,447,121,26\",\"text\":\"quality\"},{\"boundingBox\":\"980,448,133,20\",\"text\":\"software\"},{\"boundingBox\":\"1132,448,33,19\",\"text\":\"be\"},{\"boundingBox\":\"1181,447,123,21\",\"text\":\"written\"},{\"boundingBox\":\"1324,449,47,20\",\"text\":\"for\"},{\"boundingBox\":\"1391,449,51,20\",\"text\":\"the\"}]},{\"boundingBox\":\"285,479,224,25\",\"words\":[{\"boundingBox\":\"285,479,86,25\",\"text\":\"hobby\"},{\"boundingBox\":\"386,480,123,19\",\"text\":\"market?\"}]},{\"boundingBox\":\"372,544,1052,28\",\"words\":[{\"boundingBox\":\"372,545,103,20\",\"text\":\"Almost\"},{\"boundingBox\":\"495,549,15,16\",\"text\":\"a\"},{\"boundingBox\":\"527,550,69,20\",\"text\":\"year\"},{\"boundingBox\":\"616,550,64,19\",\"text\":\"ago,\"},{\"boundingBox\":\"703,545,67,22\",\"text\":\"Paul\"},{\"boundingBox\":\"788,544,87,21\",\"text\":\"Allen\"},{\"boundingBox\":\"893,544,50,22\",\"text\":\"and\"},{\"boundingBox\":\"959,546,117,25\",\"text\":\"myself,\"},{\"boundingBox\":\"1100,546,152,25\",\"text\":\"expecting\"},{\"boundingBox\":\"1270,546,50,20\",\"text\":\"the\"},{\"boundingBox\":\"1339,545,85,27\",\"text\":\"hobby\"}]},{\"boundingBox\":\"282,576,1136,27\",\"words\":[{\"boundingBox\":\"282,576,106,21\",\"text\":\"market\"},{\"boundingBox\":\"408,578,33,19\",\"text\":\"to\"},{\"boundingBox\":\"460,577,114,25\",\"text\":\"expand,\"},{\"boundingBox\":\"599,577,31,20\",\"text\":\"hi\"},{\"boundingBox\":\"634,577,50,21\",\"text\":\"red\"},{\"boundingBox\":\"701,578,87,20\",\"text\":\"Monte\"},{\"boundingBox\":\"805,577,138,21\",\"text\":\"Davidoff\"},{\"boundingBox\":\"961,578,51,20\",\"text\":\"and\"},{\"boundingBox\":\"1029,578,154,25\",\"text\":\"developed\"},{\"boundingBox\":\"1199,578,102,21\",\"text\":\"Altair\"},{\"boundingBox\":\"1321,580,97,19\",\"text\":\"BASIC.\"}]},{\"boundingBox\":\"286,608,1136,27\",\"words\":[{\"boundingBox\":\"286,609,104,25\",\"text\":\"Though\"},{\"boundingBox\":\"408,609,49,20\",\"text\":\"the\"},{\"boundingBox\":\"476,608,120,21\",\"text\":\"initial\"},{\"boundingBox\":\"614,610,70,20\",\"text\":\"work\"},{\"boundingBox\":\"704,610,65,20\",\"text\":\"took\"},{\"boundingBox\":\"788,610,69,25\",\"text\":\"only\"},{\"boundingBox\":\"876,611,50,19\",\"text\":\"two\"},{\"boundingBox\":\"942,611,116,22\",\"text\":\"months,\"},{\"boundingBox\":\"1083,611,47,19\",\"text\":\"the\"},{\"boundingBox\":\"1149,611,84,20\",\"text\":\"three\"},{\"boundingBox\":\"1252,612,32,19\",\"text\":\"of\"},{\"boundingBox\":\"1304,617,32,15\",\"text\":\"us\"},{\"boundingBox\":\"1356,612,66,20\",\"text\":\"have\"}]},{\"boundingBox\":\"287,642,1134,27\",\"words\":[{\"boundingBox\":\"287,643,85,24\",\"text\":\"spent\"},{\"boundingBox\":\"388,643,70,19\",\"text\":\"most\"},{\"boundingBox\":\"476,642,34,20\",\"text\":\"of\"},{\"boundingBox\":\"529,642,49,20\",\"text\":\"t:he\"},{\"boundingBox\":\"599,642,69,20\",\"text\":\"last\"},{\"boundingBox\":\"684,648,67,20\",\"text\":\"year\"},{\"boundingBox\":\"771,643,201,25\",\"text\":\"documenting,\"},{\"boundingBox\":\"997,642,151,26\",\"text\":\"improving\"},{\"boundingBox\":\"1164,644,52,20\",\"text\":\"and\"},{\"boundingBox\":\"1234,643,103,26\",\"text\":\"adding\"},{\"boundingBox\":\"1357,645,64,19\",\"text\":\"fea\\xe2\\x80\\x94\"}]},{\"boundingBox\":\"286,675,1133,25\",\"words\":[{\"boundingBox\":\"286,675,85,19\",\"text\":\"tures\"},{\"boundingBox\":\"391,676,32,18\",\"text\":\"to\"},{\"boundingBox\":\"442,676,98,19\",\"text\":\"BASIC.\"},{\"boundingBox\":\"580,677,53,19\",\"text\":\"Now\"},{\"boundingBox\":\"649,680,34,15\",\"text\":\"we\"},{\"boundingBox\":\"702,675,67,21\",\"text\":\"have\"},{\"boundingBox\":\"788,676,46,23\",\"text\":\"4K,\"},{\"boundingBox\":\"858,676,45,23\",\"text\":\"BK,\"},{\"boundingBox\":\"927,678,149,22\",\"text\":\"EXTENDED,\"},{\"boundingBox\":\"1098,678,52,18\",\"text\":\"ROM\"},{\"boundingBox\":\"1165,677,50,19\",\"text\":\"and\"},{\"boundingBox\":\"1234,678,69,19\",\"text\":\"DISK\"},{\"boundingBox\":\"1321,679,98,20\",\"text\":\"BASIC.\"}]},{\"boundingBox\":\"287,707,1028,27\",\"words\":[{\"boundingBox\":\"287,708,52,20\",\"text\":\"The\"},{\"boundingBox\":\"354,708,86,20\",\"text\":\"value\"},{\"boundingBox\":\"458,708,34,20\",\"text\":\"of\"},{\"boundingBox\":\"512,707,51,21\",\"text\":\"the\"},{\"boundingBox\":\"580,710,137,23\",\"text\":\"computer\"},{\"boundingBox\":\"738,708,66,20\",\"text\":\"time\"},{\"boundingBox\":\"820,715,37,14\",\"text\":\"we\"},{\"boundingBox\":\"876,709,66,20\",\"text\":\"have\"},{\"boundingBox\":\"961,709,68,21\",\"text\":\"used\"},{\"boundingBox\":\"1047,710,117,20\",\"text\":\"exceeds\"},{\"boundingBox\":\"1185,710,60,24\",\"text\":\"$40,\"},{\"boundingBox\":\"1252,711,63,20\",\"text\":\"000.\"}]},{\"boundingBox\":\"372,773,1015,27\",\"words\":[{\"boundingBox\":\"372,773,51,20\",\"text\":\"The\"},{\"boundingBox\":\"444,773,135,21\",\"text\":\"feedback\"},{\"boundingBox\":\"596,778,35,16\",\"text\":\"we\"},{\"boundingBox\":\"651,774,67,20\",\"text\":\"have\"},{\"boundingBox\":\"737,776,103,23\",\"text\":\"gotten\"},{\"boundingBox\":\"860,775,66,20\",\"text\":\"from\"},{\"boundingBox\":\"945,774,49,20\",\"text\":\"the\"},{\"boundingBox\":\"1013,774,135,21\",\"text\":\"hundreds\"},{\"boundingBox\":\"1165,774,33,20\",\"text\":\"of\"},{\"boundingBox\":\"1217,775,102,25\",\"text\":\"people\"},{\"boundingBox\":\"1335,775,52,21\",\"text\":\"Who\"}]},{\"boundingBox\":\"287,806,1084,27\",\"words\":[{\"boundingBox\":\"287,811,51,20\",\"text\":\"say\"},{\"boundingBox\":\"357,806,67,26\",\"text\":\"they\"},{\"boundingBox\":\"442,811,50,16\",\"text\":\"are\"},{\"boundingBox\":\"511,806,87,25\",\"text\":\"using\"},{\"boundingBox\":\"617,808,83,19\",\"text\":\"BASIC\"},{\"boundingBox\":\"720,807,49,20\",\"text\":\"has\"},{\"boundingBox\":\"788,806,50,21\",\"text\":\"all\"},{\"boundingBox\":\"856,807,70,20\",\"text\":\"been\"},{\"boundingBox\":\"944,806,148,26\",\"text\":\"positive.\"},{\"boundingBox\":\"1200,808,171,25\",\"text\":\"surprising\"}]},{\"boundingBox\":\"287,838,496,26\",\"words\":[{\"boundingBox\":\"287,838,101,25\",\"text\":\"things\"},{\"boundingBox\":\"407,843,50,15\",\"text\":\"are\"},{\"boundingBox\":\"476,840,150,24\",\"text\":\"apparent,\"},{\"boundingBox\":\"651,840,117,19\",\"text\":\"however\"},{\"boundingBox\":\"775,853,8,7\",\"text\":\".\"}]},{\"boundingBox\":\"824,838,632,28\",\"words\":[{\"boundingBox\":\"824,838,27,26\",\"text\":\"1)\"},{\"boundingBox\":\"873,841,70,19\",\"text\":\"Most\"},{\"boundingBox\":\"960,840,34,20\",\"text\":\"of\"},{\"boundingBox\":\"1013,840,84,20\",\"text\":\"these\"},{\"boundingBox\":\"1116,840,113,21\",\"text\":\"\\'Susers\\\\\"\"},{\"boundingBox\":\"1250,845,85,15\",\"text\":\"never\"},{\"boundingBox\":\"1352,841,104,25\",\"text\":\"bought\"}]},{\"boundingBox\":\"286,870,1118,28\",\"words\":[{\"boundingBox\":\"286,872,85,19\",\"text\":\"BASIC\"},{\"boundingBox\":\"397,870,76,24\",\"text\":\"(less\"},{\"boundingBox\":\"494,872,68,19\",\"text\":\"than\"},{\"boundingBox\":\"582,872,53,22\",\"text\":\"1094\"},{\"boundingBox\":\"650,872,33,20\",\"text\":\"of\"},{\"boundingBox\":\"703,872,50,21\",\"text\":\"all\"},{\"boundingBox\":\"770,872,102,21\",\"text\":\"Altair\"},{\"boundingBox\":\"892,877,101,16\",\"text\":\"O\\'.\\xe2\\x80\\xa2.\\'ncrc\"},{\"boundingBox\":\"1013,873,66,19\",\"text\":\"havc\"},{\"boundingBox\":\"1098,873,101,25\",\"text\":\"bought\"},{\"boundingBox\":\"1217,872,95,26\",\"text\":\"BASIC)\"},{\"boundingBox\":\"1323,886,8,10\",\"text\":\",\"},{\"boundingBox\":\"1353,873,51,21\",\"text\":\"and\"}]},{\"boundingBox\":\"286,903,1151,29\",\"words\":[{\"boundingBox\":\"286,903,27,24\",\"text\":\"2)\"},{\"boundingBox\":\"339,904,49,20\",\"text\":\"The\"},{\"boundingBox\":\"407,905,102,19\",\"text\":\"amount\"},{\"boundingBox\":\"528,904,34,20\",\"text\":\"of\"},{\"boundingBox\":\"581,904,155,26\",\"text\":\"royalties\"},{\"boundingBox\":\"752,911,36,14\",\"text\":\"we\"},{\"boundingBox\":\"806,905,67,20\",\"text\":\"have\"},{\"boundingBox\":\"893,905,137,20\",\"text\":\"received\"},{\"boundingBox\":\"1049,906,65,20\",\"text\":\"from\"},{\"boundingBox\":\"1132,905,82,21\",\"text\":\"sales\"},{\"boundingBox\":\"1234,908,32,18\",\"text\":\"to\"},{\"boundingBox\":\"1285,905,152,27\",\"text\":\"hobbyists\"}]},{\"boundingBox\":\"282,936,1101,27\",\"words\":[{\"boundingBox\":\"282,937,89,20\",\"text\":\"makes\"},{\"boundingBox\":\"391,937,48,20\",\"text\":\"the\"},{\"boundingBox\":\"460,936,67,21\",\"text\":\"time\"},{\"boundingBox\":\"546,939,86,23\",\"text\":\"spent\"},{\"boundingBox\":\"650,938,33,20\",\"text\":\"of\"},{\"boundingBox\":\"701,937,102,21\",\"text\":\"Altair\"},{\"boundingBox\":\"824,939,83,20\",\"text\":\"BASIC\"},{\"boundingBox\":\"925,938,87,21\",\"text\":\"worth\"},{\"boundingBox\":\"1030,938,66,21\",\"text\":\"less\"},{\"boundingBox\":\"1116,938,66,21\",\"text\":\"than\"},{\"boundingBox\":\"1201,937,29,26\",\"text\":\"$2\"},{\"boundingBox\":\"1251,944,33,14\",\"text\":\"an\"},{\"boundingBox\":\"1303,938,65,21\",\"text\":\"hour\"},{\"boundingBox\":\"1375,953,8,6\",\"text\":\".\"}]},{\"boundingBox\":\"370,1000,1069,28\",\"words\":[{\"boundingBox\":\"370,1002,54,25\",\"text\":\"Why\"},{\"boundingBox\":\"443,1000,32,22\",\"text\":\"is\"},{\"boundingBox\":\"494,1001,85,23\",\"text\":\"this?\"},{\"boundingBox\":\"615,1004,34,19\",\"text\":\"As\"},{\"boundingBox\":\"670,1003,49,19\",\"text\":\"the\"},{\"boundingBox\":\"734,1002,140,26\",\"text\":\"majority\"},{\"boundingBox\":\"891,1002,33,21\",\"text\":\"of\"},{\"boundingBox\":\"944,1002,152,26\",\"text\":\"hobbyists\"},{\"boundingBox\":\"1111,1005,69,19\",\"text\":\"must\"},{\"boundingBox\":\"1197,1002,35,21\",\"text\":\"be\"},{\"boundingBox\":\"1250,1009,97,18\",\"text\":\"aware,\"},{\"boundingBox\":\"1368,1005,71,19\",\"text\":\"most\"}]},{\"boundingBox\":\"285,1034,1118,27\",\"words\":[{\"boundingBox\":\"285,1034,35,19\",\"text\":\"of\"},{\"boundingBox\":\"337,1038,51,21\",\"text\":\"you\"},{\"boundingBox\":\"408,1034,84,20\",\"text\":\"stea1\"},{\"boundingBox\":\"509,1039,68,20\",\"text\":\"your\"},{\"boundingBox\":\"599,1035,149,21\",\"text\":\"software.\"},{\"boundingBox\":\"789,1035,136,20\",\"text\":\"Hardware\"},{\"boundingBox\":\"941,1037,70,19\",\"text\":\"must\"},{\"boundingBox\":\"1028,1036,34,20\",\"text\":\"be\"},{\"boundingBox\":\"1081,1035,66,26\",\"text\":\"paid\"},{\"boundingBox\":\"1166,1036,65,22\",\"text\":\"for.\"},{\"boundingBox\":\"1248,1035,54,21\",\"text\":\"but\"},{\"boundingBox\":\"1316,1036,87,21\",\"text\":\"soft\\xe2\\x80\\x94\"}]},{\"boundingBox\":\"283,1066,1139,29\",\"words\":[{\"boundingBox\":\"283,1071,71,16\",\"text\":\"ware\"},{\"boundingBox\":\"372,1066,33,21\",\"text\":\"is\"},{\"boundingBox\":\"425,1066,155,26\",\"text\":\"something\"},{\"boundingBox\":\"599,1068,34,19\",\"text\":\"to\"},{\"boundingBox\":\"652,1067,100,21\",\"text\":\"share.\"},{\"boundingBox\":\"786,1068,53,20\",\"text\":\"Who\"},{\"boundingBox\":\"857,1072,85,16\",\"text\":\"cares\"},{\"boundingBox\":\"961,1067,15,21\",\"text\":\"i\"},{\"boundingBox\":\"980,1068,14,20\",\"text\":\"f\"},{\"boundingBox\":\"1013,1068,49,20\",\"text\":\"the\"},{\"boundingBox\":\"1080,1068,100,27\",\"text\":\"people\"},{\"boundingBox\":\"1196,1068,53,20\",\"text\":\"Who\"},{\"boundingBox\":\"1265,1068,106,20\",\"text\":\"worked\"},{\"boundingBox\":\"1388,1073,34,15\",\"text\":\"on\"}]},{\"boundingBox\":\"287,1098,205,27\",\"words\":[{\"boundingBox\":\"287,1098,32,20\",\"text\":\"it\"},{\"boundingBox\":\"339,1101,50,22\",\"text\":\"get\"},{\"boundingBox\":\"407,1098,85,27\",\"text\":\"paid?\"}]},{\"boundingBox\":\"424,1163,996,28\",\"words\":[{\"boundingBox\":\"424,1163,67,21\",\"text\":\"this\"},{\"boundingBox\":\"512,1163,84,21\",\"text\":\"fair?\"},{\"boundingBox\":\"631,1167,52,18\",\"text\":\"One\"},{\"boundingBox\":\"704,1165,83,25\",\"text\":\"thing\"},{\"boundingBox\":\"804,1170,51,20\",\"text\":\"you\"},{\"boundingBox\":\"874,1166,85,20\",\"text\":\"don\\'t\"},{\"boundingBox\":\"977,1166,34,20\",\"text\":\"do\"},{\"boundingBox\":\"1028,1166,35,24\",\"text\":\"by\"},{\"boundingBox\":\"1082,1165,134,26\",\"text\":\"stealing\"},{\"boundingBox\":\"1234,1166,136,20\",\"text\":\"software\"},{\"boundingBox\":\"1388,1165,32,21\",\"text\":\"is\"}]},{\"boundingBox\":\"286,1196,1117,27\",\"words\":[{\"boundingBox\":\"286,1198,52,23\",\"text\":\"get\"},{\"boundingBox\":\"355,1196,67,20\",\"text\":\"back\"},{\"boundingBox\":\"442,1198,33,18\",\"text\":\"at\"},{\"boundingBox\":\"492,1199,68,18\",\"text\":\"MITS\"},{\"boundingBox\":\"583,1197,46,20\",\"text\":\"for\"},{\"boundingBox\":\"652,1201,66,16\",\"text\":\"some\"},{\"boundingBox\":\"737,1198,120,24\",\"text\":\"problem\"},{\"boundingBox\":\"872,1202,52,21\",\"text\":\"you\"},{\"boundingBox\":\"941,1202,53,21\",\"text\":\"may\"},{\"boundingBox\":\"1013,1198,66,20\",\"text\":\"have\"},{\"boundingBox\":\"1098,1198,61,20\",\"text\":\"had.\"},{\"boundingBox\":\"1197,1200,68,18\",\"text\":\"MITS\"},{\"boundingBox\":\"1284,1199,96,19\",\"text\":\"doesn\\'\"},{\"boundingBox\":\"1388,1200,15,18\",\"text\":\"t\"}]},{\"boundingBox\":\"284,1229,1114,27\",\"words\":[{\"boundingBox\":\"284,1229,71,19\",\"text\":\"make\"},{\"boundingBox\":\"371,1234,87,20\",\"text\":\"money\"},{\"boundingBox\":\"477,1229,121,25\",\"text\":\"selling\"},{\"boundingBox\":\"616,1230,149,20\",\"text\":\"software.\"},{\"boundingBox\":\"805,1230,57,21\",\"text\":\"The-\"},{\"boundingBox\":\"874,1231,121,25\",\"text\":\"royalty\"},{\"boundingBox\":\"1013,1230,67,25\",\"text\":\"paid\"},{\"boundingBox\":\"1100,1233,29,17\",\"text\":\"to\"},{\"boundingBox\":\"1148,1236,44,18\",\"text\":\"us,\"},{\"boundingBox\":\"1216,1231,49,20\",\"text\":\"the\"},{\"boundingBox\":\"1282,1231,116,23\",\"text\":\"manual,\"}]},{\"boundingBox\":\"286,1261,1170,27\",\"words\":[{\"boundingBox\":\"286,1261,51,19\",\"text\":\"the\"},{\"boundingBox\":\"356,1263,66,23\",\"text\":\"tape\"},{\"boundingBox\":\"442,1262,52,20\",\"text\":\"and\"},{\"boundingBox\":\"512,1262,49,20\",\"text\":\"the\"},{\"boundingBox\":\"580,1263,138,19\",\"text\":\"overhead\"},{\"boundingBox\":\"734,1263,69,20\",\"text\":\"make\"},{\"boundingBox\":\"822,1262,34,21\",\"text\":\"it\"},{\"boundingBox\":\"875,1268,15,14\",\"text\":\"a\"},{\"boundingBox\":\"908,1263,173,19\",\"text\":\"break\\xe2\\x80\\x94even\"},{\"boundingBox\":\"1098,1262,164,25\",\"text\":\"operation.\"},{\"boundingBox\":\"1301,1264,50,18\",\"text\":\"One\"},{\"boundingBox\":\"1370,1262,86,26\",\"text\":\"thing\"}]},{\"boundingBox\":\"284,1294,1152,27\",\"words\":[{\"boundingBox\":\"284,1299,54,20\",\"text\":\"you\"},{\"boundingBox\":\"356,1294,32,20\",\"text\":\"do\"},{\"boundingBox\":\"407,1295,32,19\",\"text\":\"do\"},{\"boundingBox\":\"459,1294,32,21\",\"text\":\"is\"},{\"boundingBox\":\"511,1297,120,23\",\"text\":\"prevent\"},{\"boundingBox\":\"650,1296,69,24\",\"text\":\"good\"},{\"boundingBox\":\"738,1296,135,20\",\"text\":\"software\"},{\"boundingBox\":\"893,1296,67,20\",\"text\":\"from\"},{\"boundingBox\":\"977,1295,87,26\",\"text\":\"being\"},{\"boundingBox\":\"1079,1296,132,20\",\"text\":\"written.\"},{\"boundingBox\":\"1248,1297,52,20\",\"text\":\"Who\"},{\"boundingBox\":\"1317,1301,53,15\",\"text\":\"can\"},{\"boundingBox\":\"1387,1297,49,20\",\"text\":\"af\\xe2\\x80\\x94\"}]},{\"boundingBox\":\"287,1327,1099,27\",\"words\":[{\"boundingBox\":\"287,1327,68,20\",\"text\":\"ford\"},{\"boundingBox\":\"374,1328,31,19\",\"text\":\"to\"},{\"boundingBox\":\"424,1328,32,19\",\"text\":\"do\"},{\"boundingBox\":\"476,1327,208,25\",\"text\":\"professional\"},{\"boundingBox\":\"700,1329,69,19\",\"text\":\"work\"},{\"boundingBox\":\"789,1329,47,19\",\"text\":\"for\"},{\"boundingBox\":\"856,1328,137,25\",\"text\":\"nothing?\"},{\"boundingBox\":\"1028,1329,68,20\",\"text\":\"What\"},{\"boundingBox\":\"1113,1328,136,26\",\"text\":\"hobbyist\"},{\"boundingBox\":\"1267,1334,51,15\",\"text\":\"can\"},{\"boundingBox\":\"1335,1331,51,23\",\"text\":\"put\"}]},{\"boundingBox\":\"287,1360,1165,27\",\"words\":[{\"boundingBox\":\"287,1360,85,19\",\"text\":\"3\\xe2\\x80\\x94man\"},{\"boundingBox\":\"389,1365,84,20\",\"text\":\"years\"},{\"boundingBox\":\"493,1360,68,21\",\"text\":\"into\"},{\"boundingBox\":\"581,1361,200,25\",\"text\":\"programming,\"},{\"boundingBox\":\"807,1361,119,25\",\"text\":\"finding\"},{\"boundingBox\":\"944,1361,51,20\",\"text\":\"all\"},{\"boundingBox\":\"1012,1361,79,25\",\"text\":\"bugs,\"},{\"boundingBox\":\"1114,1361,187,26\",\"text\":\"documenting\"},{\"boundingBox\":\"1319,1361,49,21\",\"text\":\"his\"},{\"boundingBox\":\"1387,1367,65,20\",\"text\":\"pro\\xe2\\x80\\x94\"}]},{\"boundingBox\":\"285,1392,1117,26\",\"words\":[{\"boundingBox\":\"285,1392,70,20\",\"text\":\"duct\"},{\"boundingBox\":\"373,1392,50,20\",\"text\":\"and\"},{\"boundingBox\":\"441,1392,172,21\",\"text\":\"distribute\"},{\"boundingBox\":\"634,1394,48,19\",\"text\":\"for\"},{\"boundingBox\":\"704,1394,82,19\",\"text\":\"free?\"},{\"boundingBox\":\"821,1394,52,20\",\"text\":\"The\"},{\"boundingBox\":\"894,1394,65,19\",\"text\":\"fact\"},{\"boundingBox\":\"978,1393,14,21\",\"text\":\"i\"},{\"boundingBox\":\"996,1400,27,18\",\"text\":\"s,\"},{\"boundingBox\":\"1046,1399,33,15\",\"text\":\"no\"},{\"boundingBox\":\"1097,1399,50,15\",\"text\":\"one\"},{\"boundingBox\":\"1164,1393,118,21\",\"text\":\"besides\"},{\"boundingBox\":\"1301,1399,32,15\",\"text\":\"us\"},{\"boundingBox\":\"1353,1394,49,20\",\"text\":\"has\"}]},{\"boundingBox\":\"286,1424,1099,27\",\"words\":[{\"boundingBox\":\"286,1424,138,20\",\"text\":\"invested\"},{\"boundingBox\":\"441,1430,16,15\",\"text\":\"a\"},{\"boundingBox\":\"477,1425,49,20\",\"text\":\"Iot\"},{\"boundingBox\":\"543,1426,35,20\",\"text\":\"Of\"},{\"boundingBox\":\"594,1431,90,20\",\"text\":\"money\"},{\"boundingBox\":\"702,1424,34,21\",\"text\":\"in\"},{\"boundingBox\":\"754,1425,84,26\",\"text\":\"hobby\"},{\"boundingBox\":\"858,1427,148,19\",\"text\":\"software.\"},{\"boundingBox\":\"1044,1428,35,19\",\"text\":\"We\"},{\"boundingBox\":\"1097,1426,66,20\",\"text\":\"have\"},{\"boundingBox\":\"1180,1426,121,20\",\"text\":\"written\"},{\"boundingBox\":\"1319,1426,66,20\",\"text\":\"6800\"}]},{\"boundingBox\":\"287,1457,1165,27\",\"words\":[{\"boundingBox\":\"287,1458,97,22\",\"text\":\"BASIC,\"},{\"boundingBox\":\"408,1457,49,20\",\"text\":\"and\"},{\"boundingBox\":\"476,1463,50,15\",\"text\":\"are\"},{\"boundingBox\":\"543,1457,124,26\",\"text\":\"wr\\xc2\\xb1ting\"},{\"boundingBox\":\"685,1459,66,19\",\"text\":\"8080\"},{\"boundingBox\":\"769,1460,53,19\",\"text\":\"APL\"},{\"boundingBox\":\"840,1459,50,20\",\"text\":\"and\"},{\"boundingBox\":\"910,1459,65,20\",\"text\":\"6800\"},{\"boundingBox\":\"993,1461,65,21\",\"text\":\"APL,\"},{\"boundingBox\":\"1079,1459,49,20\",\"text\":\"but\"},{\"boundingBox\":\"1150,1459,81,20\",\"text\":\"there\"},{\"boundingBox\":\"1250,1458,32,22\",\"text\":\"is\"},{\"boundingBox\":\"1301,1464,68,20\",\"text\":\"very\"},{\"boundingBox\":\"1388,1458,30,21\",\"text\":\"li\"},{\"boundingBox\":\"1422,1460,30,19\",\"text\":\"t\\xe2\\x80\\x94\"}]},{\"boundingBox\":\"287,1489,1116,28\",\"words\":[{\"boundingBox\":\"287,1491,15,18\",\"text\":\"t\"},{\"boundingBox\":\"304,1489,33,20\",\"text\":\"Ie\"},{\"boundingBox\":\"356,1489,152,22\",\"text\":\"incentive\"},{\"boundingBox\":\"529,1492,31,18\",\"text\":\"to\"},{\"boundingBox\":\"577,1491,72,20\",\"text\":\"make\"},{\"boundingBox\":\"669,1490,65,21\",\"text\":\"this\"},{\"boundingBox\":\"755,1491,135,20\",\"text\":\"software\"},{\"boundingBox\":\"908,1491,153,21\",\"text\":\"available\"},{\"boundingBox\":\"1081,1492,31,19\",\"text\":\"to\"},{\"boundingBox\":\"1130,1490,166,27\",\"text\":\"hobbyists.\"},{\"boundingBox\":\"1334,1492,69,20\",\"text\":\"Most\"}]},{\"boundingBox\":\"285,1521,618,29\",\"words\":[{\"boundingBox\":\"285,1521,150,29\",\"text\":\"directly,\"},{\"boundingBox\":\"460,1523,48,20\",\"text\":\"the\"},{\"boundingBox\":\"528,1523,87,26\",\"text\":\"thing\"},{\"boundingBox\":\"631,1528,52,22\",\"text\":\"you\"},{\"boundingBox\":\"701,1524,33,20\",\"text\":\"do\"},{\"boundingBox\":\"753,1523,32,21\",\"text\":\"is\"},{\"boundingBox\":\"806,1524,97,20\",\"text\":\"thefta\"}]},{\"boundingBox\":\"372,1588,1064,27\",\"words\":[{\"boundingBox\":\"372,1588,70,20\",\"text\":\"What\"},{\"boundingBox\":\"458,1589,85,20\",\"text\":\"about\"},{\"boundingBox\":\"563,1589,51,20\",\"text\":\"the\"},{\"boundingBox\":\"632,1595,68,20\",\"text\":\"guys\"},{\"boundingBox\":\"717,1590,52,20\",\"text\":\"Who\"},{\"boundingBox\":\"788,1590,119,21\",\"text\":\"re\\xe2\\x80\\x94se11\"},{\"boundingBox\":\"925,1589,102,21\",\"text\":\"Altair\"},{\"boundingBox\":\"1047,1592,94,21\",\"text\":\"BASIC,\"},{\"boundingBox\":\"1165,1590,100,20\",\"text\":\"arenit\"},{\"boundingBox\":\"1286,1590,66,25\",\"text\":\"they\"},{\"boundingBox\":\"1368,1590,68,20\",\"text\":\"mak\\xe2\\x80\\x94\"}]},{\"boundingBox\":\"286,1619,1152,29\",\"words\":[{\"boundingBox\":\"286,1619,53,26\",\"text\":\"ing\"},{\"boundingBox\":\"354,1626,86,20\",\"text\":\"money\"},{\"boundingBox\":\"458,1626,34,15\",\"text\":\"on\"},{\"boundingBox\":\"511,1622,86,26\",\"text\":\"hobby\"},{\"boundingBox\":\"616,1623,153,19\",\"text\":\"software?\"},{\"boundingBox\":\"803,1624,65,22\",\"text\":\"Yes,\"},{\"boundingBox\":\"890,1622,52,21\",\"text\":\"but\"},{\"boundingBox\":\"961,1623,88,21\",\"text\":\"those\\xe2\\x80\\xa2\"},{\"boundingBox\":\"1062,1623,50,19\",\"text\":\"Who\"},{\"boundingBox\":\"1130,1622,66,20\",\"text\":\"have\"},{\"boundingBox\":\"1214,1622,69,21\",\"text\":\"been\"},{\"boundingBox\":\"1302,1626,82,21\",\"text\":\"repor\"},{\"boundingBox\":\"1389,1622,49,20\",\"text\":\"ted\"}]},{\"boundingBox\":\"289,1657,1134,28\",\"words\":[{\"boundingBox\":\"289,1658,34,19\",\"text\":\"to\"},{\"boundingBox\":\"341,1662,34,16\",\"text\":\"us\"},{\"boundingBox\":\"391,1662,52,21\",\"text\":\"may\"},{\"boundingBox\":\"463,1657,67,21\",\"text\":\"10se\"},{\"boundingBox\":\"548,1657,35,22\",\"text\":\"in\"},{\"boundingBox\":\"602,1658,50,21\",\"text\":\"the\"},{\"boundingBox\":\"671,1658,63,20\",\"text\":\"end.\"},{\"boundingBox\":\"774,1659,67,26\",\"text\":\"They\"},{\"boundingBox\":\"860,1663,50,15\",\"text\":\"are\"},{\"boundingBox\":\"929,1658,50,20\",\"text\":\"the\"},{\"boundingBox\":\"997,1662,67,16\",\"text\":\"ones\"},{\"boundingBox\":\"1081,1658,50,20\",\"text\":\"Who\"},{\"boundingBox\":\"1150,1657,67,26\",\"text\":\"give\"},{\"boundingBox\":\"1236,1657,152,25\",\"text\":\"hobbyists\"},{\"boundingBox\":\"1407,1662,16,15\",\"text\":\"a\"}]},{\"boundingBox\":\"288,1695,1156,26\",\"words\":[{\"boundingBox\":\"288,1696,52,19\",\"text\":\"bad\"},{\"boundingBox\":\"358,1701,80,18\",\"text\":\"nane,\"},{\"boundingBox\":\"462,1696,50,20\",\"text\":\"and\"},{\"boundingBox\":\"532,1696,99,21\",\"text\":\"should\"},{\"boundingBox\":\"649,1696,34,20\",\"text\":\"be\"},{\"boundingBox\":\"700,1695,104,21\",\"text\":\"kicked\"},{\"boundingBox\":\"821,1698,52,18\",\"text\":\"out\"},{\"boundingBox\":\"892,1696,33,20\",\"text\":\"of\"},{\"boundingBox\":\"944,1700,50,21\",\"text\":\"any\"},{\"boundingBox\":\"1012,1696,67,20\",\"text\":\"club\"},{\"boundingBox\":\"1096,1696,123,24\",\"text\":\"meeting\"},{\"boundingBox\":\"1238,1696,66,25\",\"text\":\"they\"},{\"boundingBox\":\"1324,1696,68,21\",\"text\":\"show\"},{\"boundingBox\":\"1408,1701,36,19\",\"text\":\"up\"}]},{\"boundingBox\":\"290,1729,46,20\",\"words\":[{\"boundingBox\":\"290,1729,46,20\",\"text\":\"at.\"}]},{\"boundingBox\":\"376,1793,1083,26\",\"words\":[{\"boundingBox\":\"376,1795,14,19\",\"text\":\"I\"},{\"boundingBox\":\"408,1793,88,21\",\"text\":\"would\"},{\"boundingBox\":\"514,1793,169,26\",\"text\":\"appreciate\"},{\"boundingBox\":\"702,1793,118,24\",\"text\":\"letters\"},{\"boundingBox\":\"842,1793,66,21\",\"text\":\"from\"},{\"boundingBox\":\"927,1799,50,20\",\"text\":\"any\"},{\"boundingBox\":\"994,1798,50,16\",\"text\":\"one\"},{\"boundingBox\":\"1061,1794,53,20\",\"text\":\"Who\"},{\"boundingBox\":\"1130,1795,87,19\",\"text\":\"wants\"},{\"boundingBox\":\"1238,1795,32,18\",\"text\":\"to\"},{\"boundingBox\":\"1289,1799,51,20\",\"text\":\"pay\"},{\"boundingBox\":\"1357,1799,45,20\",\"text\":\"up,\"},{\"boundingBox\":\"1426,1798,33,16\",\"text\":\"or\"}]},{\"boundingBox\":\"1409,1825,81,25\",\"words\":[{\"boundingBox\":\"1409,1825,81,25\",\"text\":\"\\\\\"114,\"}]},{\"boundingBox\":\"289,1826,1096,25\",\"words\":[{\"boundingBox\":\"289,1826,50,22\",\"text\":\"has\"},{\"boundingBox\":\"358,1831,16,16\",\"text\":\"a\"},{\"boundingBox\":\"394,1826,170,25\",\"text\":\"suggestion\"},{\"boundingBox\":\"581,1831,32,16\",\"text\":\"or\"},{\"boundingBox\":\"633,1828,131,19\",\"text\":\"corrunent.\"},{\"boundingBox\":\"805,1828,69,19\",\"text\":\"Just\"},{\"boundingBox\":\"889,1826,87,20\",\"text\":\"write\"},{\"boundingBox\":\"993,1831,33,15\",\"text\":\"me\"},{\"boundingBox\":\"1046,1827,32,19\",\"text\":\"at\"},{\"boundingBox\":\"1099,1826,66,21\",\"text\":\"1180\"},{\"boundingBox\":\"1184,1826,137,20\",\"text\":\"Alvarado\"},{\"boundingBox\":\"1341,1827,44,23\",\"text\":\"SE,\"}]},{\"boundingBox\":\"289,1858,1136,26\",\"words\":[{\"boundingBox\":\"289,1859,200,25\",\"text\":\"Albuquerque,\"},{\"boundingBox\":\"512,1860,52,19\",\"text\":\"New\"},{\"boundingBox\":\"580,1858,114,24\",\"text\":\"Mexico,\"},{\"boundingBox\":\"720,1859,96,20\",\"text\":\"87108.\"},{\"boundingBox\":\"856,1858,121,25\",\"text\":\"Nothing\"},{\"boundingBox\":\"992,1859,87,19\",\"text\":\"would\"},{\"boundingBox\":\"1217,1863,34,16\",\"text\":\"me\"},{\"boundingBox\":\"1269,1863,70,15\",\"text\":\"more\"},{\"boundingBox\":\"1358,1858,67,20\",\"text\":\"than\"}]},{\"boundingBox\":\"288,1890,1155,27\",\"words\":[{\"boundingBox\":\"288,1890,87,26\",\"text\":\"being\"},{\"boundingBox\":\"393,1891,67,20\",\"text\":\"able\"},{\"boundingBox\":\"480,1892,31,19\",\"text\":\"to\"},{\"boundingBox\":\"530,1890,67,21\",\"text\":\"hire\"},{\"boundingBox\":\"617,1892,50,20\",\"text\":\"ten\"},{\"boundingBox\":\"685,1896,187,21\",\"text\":\"programmers\"},{\"boundingBox\":\"892,1890,51,21\",\"text\":\"and\"},{\"boundingBox\":\"960,1891,102,25\",\"text\":\"deluge\"},{\"boundingBox\":\"1080,1890,51,21\",\"text\":\"the\"},{\"boundingBox\":\"1149,1890,86,26\",\"text\":\"hobby\"},{\"boundingBox\":\"1252,1891,104,20\",\"text\":\"market\"},{\"boundingBox\":\"1372,1890,71,21\",\"text\":\"with\"}]},{\"boundingBox\":\"290,1923,234,25\",\"words\":[{\"boundingBox\":\"290,1923,67,25\",\"text\":\"good\"},{\"boundingBox\":\"376,1924,148,20\",\"text\":\"software.\"}]},{\"boundingBox\":\"854,1952,119,64\",\"words\":[{\"boundingBox\":\"854,1952,119,64\",\"text\":\"BLU\"}]},{\"boundingBox\":\"840,2021,171,21\",\"words\":[{\"boundingBox\":\"840,2021,67,21\",\"text\":\"Bill\"},{\"boundingBox\":\"925,2023,86,19\",\"text\":\"Gates\"}]},{\"boundingBox\":\"840,2048,465,27\",\"words\":[{\"boundingBox\":\"840,2053,120,20\",\"text\":\"General\"},{\"boundingBox\":\"980,2054,129,21\",\"text\":\"Partner,\"},{\"boundingBox\":\"1132,2048,173,24\",\"text\":\"Micro\\xe2\\x80\\x94Soft\"}]}]}]}'\n"
     ]
    }
   ],
   "source": [
    "try:\n",
    "    conn = http.client.HTTPSConnection('brazilsouth.api.cognitive.microsoft.com')\n",
    "    conn.request(\"POST\", \"/vision/v2.1/ocr?%s\" % params, image_data, headers)\n",
    "    response = conn.getresponse()\n",
    "    data = response.read()\n",
    "    print(data)\n",
    "    conn.close()\n",
    "except Exception as e:\n",
    "    print(e)\n"
   ]
  },
  {
   "cell_type": "code",
   "execution_count": 12,
   "metadata": {},
   "outputs": [],
   "source": [
    "regions = json.loads(data)"
   ]
  },
  {
   "cell_type": "code",
   "execution_count": 13,
   "metadata": {},
   "outputs": [],
   "source": [
    "text = ''\n",
    "for i1 in range(len(regions['regions'])):\n",
    "    for i2 in range(len(regions['regions'][i1]['lines'])):\n",
    "        for i3 in range(len(regions['regions'][i1]['lines'][i2]['words'])):\n",
    "            text = text + ' ' + regions['regions'][i1]['lines'][i2]['words'][i3]['text']"
   ]
  },
  {
   "cell_type": "code",
   "execution_count": 14,
   "metadata": {},
   "outputs": [
    {
     "name": "stdout",
     "output_type": "stream",
     "text": [
      " -2- February 3 e 1976 An Open Letter to Hobbyists me, the most critical thing in the hobby market right now is the Iack of good software coursese books and software itself. Without good software and an owner Who understands prograrming, a hobby computer is wasted. Will quality software be written for the hobby market? Almost a year ago, Paul Allen and myself, expecting the hobby market to expand, hi red Monte Davidoff and developed Altair BASIC. Though the initial work took only two months, the three of us have spent most of t:he last year documenting, improving and adding fea— tures to BASIC. Now we have 4K, BK, EXTENDED, ROM and DISK BASIC. The value of the computer time we have used exceeds $40, 000. The feedback we have gotten from the hundreds of people Who say they are using BASIC has all been positive. surprising things are apparent, however . 1) Most of these 'Susers\" never bought BASIC (less than 1094 of all Altair O'.•.'ncrc havc bought BASIC) , and 2) The amount of royalties we have received from sales to hobbyists makes the time spent of Altair BASIC worth less than $2 an hour . Why is this? As the majority of hobbyists must be aware, most of you stea1 your software. Hardware must be paid for. but soft— ware is something to share. Who cares i f the people Who worked on it get paid? this fair? One thing you don't do by stealing software is get back at MITS for some problem you may have had. MITS doesn' t make money selling software. The- royalty paid to us, the manual, the tape and the overhead make it a break—even operation. One thing you do do is prevent good software from being written. Who can af— ford to do professional work for nothing? What hobbyist can put 3—man years into programming, finding all bugs, documenting his pro— duct and distribute for free? The fact i s, no one besides us has invested a Iot Of money in hobby software. We have written 6800 BASIC, and are wr±ting 8080 APL and 6800 APL, but there is very li t— t Ie incentive to make this software available to hobbyists. Most directly, the thing you do is thefta What about the guys Who re—se11 Altair BASIC, arenit they mak— ing money on hobby software? Yes, but those• Who have been repor ted to us may 10se in the end. They are the ones Who give hobbyists a bad nane, and should be kicked out of any club meeting they show up at. I would appreciate letters from any one Who wants to pay up, or \"114, has a suggestion or corrunent. Just write me at 1180 Alvarado SE, Albuquerque, New Mexico, 87108. Nothing would me more than being able to hire ten programmers and deluge the hobby market with good software. BLU Bill Gates General Partner, Micro—Soft\n"
     ]
    }
   ],
   "source": [
    "print(text)"
   ]
  },
  {
   "cell_type": "markdown",
   "metadata": {},
   "source": [
    "![figura2](./Bill_Gates_Letter_to_Hobbyists.jpg)"
   ]
  },
  {
   "cell_type": "markdown",
   "metadata": {},
   "source": [
    "### Texto escrito a mão - local"
   ]
  },
  {
   "cell_type": "code",
   "execution_count": 15,
   "metadata": {},
   "outputs": [],
   "source": [
    "params = urllib.parse.urlencode({\n",
    "    'language': 'pt',\n",
    "    'detectOrientation': 'true'\n",
    "})\n"
   ]
  },
  {
   "cell_type": "code",
   "execution_count": 16,
   "metadata": {},
   "outputs": [],
   "source": [
    "headers_get = {\n",
    "    # Request headers\n",
    "    'Content-Type': 'application/octet-stream',\n",
    "    'Ocp-Apim-Subscription-Key': '9b5dfc92830a4e3ba89d1472ef0b8afb',\n",
    "}"
   ]
  },
  {
   "cell_type": "code",
   "execution_count": 17,
   "metadata": {},
   "outputs": [],
   "source": [
    "params_get = urllib.parse.urlencode({\n",
    "})\n"
   ]
  },
  {
   "cell_type": "code",
   "execution_count": 18,
   "metadata": {},
   "outputs": [],
   "source": [
    "params = urllib.parse.urlencode({\n",
    "    'mode': 'Handwritten'\n",
    "})\n"
   ]
  },
  {
   "cell_type": "code",
   "execution_count": 19,
   "metadata": {},
   "outputs": [],
   "source": [
    "# Set image_path to the local path of an image that you want to analyze.\n",
    "image_path = \"./Cursive_Writing_on_Notebook_paper.jpg\"\n",
    "\n",
    "# Read the image into a byte array\n",
    "image_data = open(image_path, \"rb\").read()"
   ]
  },
  {
   "cell_type": "code",
   "execution_count": 20,
   "metadata": {},
   "outputs": [
    {
     "name": "stdout",
     "output_type": "stream",
     "text": [
      "/vision/v2.1/textOperations/a367d7fb-aa03-4d5c-a330-2e5f3661721e\n",
      "{'status': 'Succeeded', 'recognitionResult': {'lines': [{'boundingBox': [8, 3, 1814, 23, 1812, 140, 6, 121], 'text': 'The quick brown fox jumps over the lazy', 'words': [{'boundingBox': [34, 10, 187, 13, 179, 116, 27, 111], 'text': 'The'}, {'boundingBox': [207, 14, 433, 18, 425, 123, 199, 116], 'text': 'quick'}, {'boundingBox': [453, 18, 738, 22, 730, 129, 445, 123], 'text': 'brown', 'confidence': 'Low'}, {'boundingBox': [758, 22, 905, 23, 895, 132, 750, 130], 'text': 'fox', 'confidence': 'Low'}, {'boundingBox': [931, 24, 1170, 25, 1161, 135, 922, 132], 'text': 'jumps'}, {'boundingBox': [1190, 25, 1403, 25, 1393, 137, 1180, 136], 'text': 'over'}, {'boundingBox': [1423, 25, 1569, 25, 1558, 138, 1412, 138], 'text': 'the'}, {'boundingBox': [1589, 25, 1815, 23, 1804, 138, 1578, 138], 'text': 'lazy', 'confidence': 'Low'}]}, {'boundingBox': [8, 209, 1857, 232, 1855, 340, 7, 317], 'text': 'Pack my box with five dozen liquor jugs.', 'words': [{'boundingBox': [10, 233, 188, 227, 186, 315, 7, 318], 'text': 'Pack'}, {'boundingBox': [205, 227, 344, 223, 342, 314, 202, 315], 'text': 'my'}, {'boundingBox': [389, 222, 534, 220, 531, 312, 386, 313], 'text': 'box', 'confidence': 'Low'}, {'boundingBox': [556, 219, 784, 219, 782, 313, 554, 312], 'text': 'with'}, {'boundingBox': [818, 219, 990, 222, 988, 315, 816, 313], 'text': 'five', 'confidence': 'Low'}, {'boundingBox': [1013, 222, 1241, 228, 1239, 319, 1011, 315], 'text': 'dozen'}, {'boundingBox': [1308, 230, 1614, 244, 1613, 329, 1306, 321], 'text': 'liquor', 'confidence': 'Low'}, {'boundingBox': [1652, 246, 1858, 259, 1857, 339, 1652, 331], 'text': 'jugs.', 'confidence': 'Low'}]}]}}\n",
      "{'status': 'Succeeded', 'recognitionResult': {'lines': [{'boundingBox': [8, 3, 1814, 23, 1812, 140, 6, 121], 'text': 'The quick brown fox jumps over the lazy', 'words': [{'boundingBox': [34, 10, 187, 13, 179, 116, 27, 111], 'text': 'The'}, {'boundingBox': [207, 14, 433, 18, 425, 123, 199, 116], 'text': 'quick'}, {'boundingBox': [453, 18, 738, 22, 730, 129, 445, 123], 'text': 'brown', 'confidence': 'Low'}, {'boundingBox': [758, 22, 905, 23, 895, 132, 750, 130], 'text': 'fox', 'confidence': 'Low'}, {'boundingBox': [931, 24, 1170, 25, 1161, 135, 922, 132], 'text': 'jumps'}, {'boundingBox': [1190, 25, 1403, 25, 1393, 137, 1180, 136], 'text': 'over'}, {'boundingBox': [1423, 25, 1569, 25, 1558, 138, 1412, 138], 'text': 'the'}, {'boundingBox': [1589, 25, 1815, 23, 1804, 138, 1578, 138], 'text': 'lazy', 'confidence': 'Low'}]}, {'boundingBox': [8, 209, 1857, 232, 1855, 340, 7, 317], 'text': 'Pack my box with five dozen liquor jugs.', 'words': [{'boundingBox': [10, 233, 188, 227, 186, 315, 7, 318], 'text': 'Pack'}, {'boundingBox': [205, 227, 344, 223, 342, 314, 202, 315], 'text': 'my'}, {'boundingBox': [389, 222, 534, 220, 531, 312, 386, 313], 'text': 'box', 'confidence': 'Low'}, {'boundingBox': [556, 219, 784, 219, 782, 313, 554, 312], 'text': 'with'}, {'boundingBox': [818, 219, 990, 222, 988, 315, 816, 313], 'text': 'five', 'confidence': 'Low'}, {'boundingBox': [1013, 222, 1241, 228, 1239, 319, 1011, 315], 'text': 'dozen'}, {'boundingBox': [1308, 230, 1614, 244, 1613, 329, 1306, 321], 'text': 'liquor', 'confidence': 'Low'}, {'boundingBox': [1652, 246, 1858, 259, 1857, 339, 1652, 331], 'text': 'jugs.', 'confidence': 'Low'}]}]}}\n"
     ]
    }
   ],
   "source": [
    "try:\n",
    "    conn = http.client.HTTPSConnection('brazilsouth.api.cognitive.microsoft.com')\n",
    "    conn.request(\"POST\", \"/vision/v2.1/recognizeText?%s\" % params, image_data, headers)\n",
    "    response = conn.getresponse()\n",
    "    \n",
    "    operationId = response.getheader('apim-request-id')\n",
    "    print(\"/vision/v2.1/textOperations/\"+ operationId)\n",
    "    \n",
    "    conn.request(\"GET\", \"/vision/v2.1/textOperations/\"+ operationId,\"{body}\", headers_get)\n",
    "    \n",
    "    poll = True\n",
    "    while (poll):\n",
    "        response_final = requests.get(\n",
    "            response.headers[\"Operation-Location\"], headers=headers)\n",
    "        analysis = response_final.json()\n",
    "        print(analysis)\n",
    "        time.sleep(1)\n",
    "        if (\"recognitionResults\" in analysis):\n",
    "            poll = False\n",
    "        if (\"status\" in analysis and analysis['status'] == 'Succeeded'):\n",
    "            poll = False\n",
    "        if (\"status\" in analysis and analysis['status'] == 'Failed'):\n",
    "            poll = False\n",
    "            \n",
    "    data = response_final.json()\n",
    "    print(data)\n",
    "    conn.close()\n",
    "except Exception as e:\n",
    "    print(\"error!\", e)\n"
   ]
  },
  {
   "cell_type": "code",
   "execution_count": 21,
   "metadata": {},
   "outputs": [],
   "source": [
    "text = ''\n",
    "for i in range(len(data['recognitionResult']['lines'])):\n",
    "        text = text + ' ' + data['recognitionResult']['lines'][i]['text']"
   ]
  },
  {
   "cell_type": "code",
   "execution_count": 22,
   "metadata": {},
   "outputs": [
    {
     "data": {
      "text/plain": [
       "' The quick brown fox jumps over the lazy Pack my box with five dozen liquor jugs.'"
      ]
     },
     "execution_count": 22,
     "metadata": {},
     "output_type": "execute_result"
    }
   ],
   "source": [
    "text"
   ]
  },
  {
   "cell_type": "markdown",
   "metadata": {},
   "source": [
    "![figura3](./Cursive_Writing_on_Notebook_paper.jpg)"
   ]
  },
  {
   "cell_type": "markdown",
   "metadata": {},
   "source": [
    "### Texto escrito a mão - web"
   ]
  },
  {
   "cell_type": "code",
   "execution_count": 23,
   "metadata": {},
   "outputs": [],
   "source": [
    "headers = {\n",
    "    # Request headers\n",
    "    'Content-Type': 'application/json',\n",
    "    'Ocp-Apim-Subscription-Key': '9b5dfc92830a4e3ba89d1472ef0b8afb',\n",
    "}"
   ]
  },
  {
   "cell_type": "code",
   "execution_count": 24,
   "metadata": {},
   "outputs": [],
   "source": [
    "params = urllib.parse.urlencode({\n",
    "    'language': 'pt',\n",
    "    'detectOrientation': 'true'\n",
    "})\n"
   ]
  },
  {
   "cell_type": "code",
   "execution_count": 25,
   "metadata": {},
   "outputs": [],
   "source": [
    "headers_get = {\n",
    "    # Request headers\n",
    "    'Content-Type': 'application/octet-stream',\n",
    "    'Ocp-Apim-Subscription-Key': '9b5dfc92830a4e3ba89d1472ef0b8afb',\n",
    "}"
   ]
  },
  {
   "cell_type": "code",
   "execution_count": 26,
   "metadata": {},
   "outputs": [],
   "source": [
    "params_get = urllib.parse.urlencode({\n",
    "})\n"
   ]
  },
  {
   "cell_type": "code",
   "execution_count": 27,
   "metadata": {},
   "outputs": [],
   "source": [
    "params = urllib.parse.urlencode({\n",
    "    'mode': 'Handwritten'\n",
    "})\n"
   ]
  },
  {
   "cell_type": "code",
   "execution_count": 28,
   "metadata": {},
   "outputs": [
    {
     "name": "stdout",
     "output_type": "stream",
     "text": [
      "/vision/v2.1/textOperations/608eeb17-0302-46f1-a359-5388094761ef\n",
      "{'status': 'Succeeded', 'recognitionResult': {'lines': [{'boundingBox': [8, 3, 1814, 23, 1812, 140, 6, 121], 'text': 'The quick brown fox jumps over the lazy', 'words': [{'boundingBox': [34, 10, 187, 13, 179, 116, 27, 111], 'text': 'The'}, {'boundingBox': [207, 14, 433, 18, 425, 123, 199, 116], 'text': 'quick'}, {'boundingBox': [453, 18, 738, 22, 730, 129, 445, 123], 'text': 'brown', 'confidence': 'Low'}, {'boundingBox': [758, 22, 905, 23, 895, 132, 750, 130], 'text': 'fox', 'confidence': 'Low'}, {'boundingBox': [931, 24, 1170, 25, 1161, 135, 922, 132], 'text': 'jumps'}, {'boundingBox': [1190, 25, 1403, 25, 1393, 137, 1180, 136], 'text': 'over'}, {'boundingBox': [1423, 25, 1569, 25, 1558, 138, 1412, 138], 'text': 'the'}, {'boundingBox': [1589, 25, 1815, 23, 1804, 138, 1578, 138], 'text': 'lazy', 'confidence': 'Low'}]}, {'boundingBox': [8, 209, 1857, 232, 1855, 340, 7, 317], 'text': 'Pack my box with five dozen liquor jugs.', 'words': [{'boundingBox': [10, 233, 188, 227, 186, 315, 7, 318], 'text': 'Pack'}, {'boundingBox': [205, 227, 344, 223, 342, 314, 202, 315], 'text': 'my'}, {'boundingBox': [389, 222, 534, 220, 531, 312, 386, 313], 'text': 'box', 'confidence': 'Low'}, {'boundingBox': [556, 219, 784, 219, 782, 313, 554, 312], 'text': 'with'}, {'boundingBox': [818, 219, 990, 222, 988, 315, 816, 313], 'text': 'five', 'confidence': 'Low'}, {'boundingBox': [1013, 222, 1241, 228, 1239, 319, 1011, 315], 'text': 'dozen'}, {'boundingBox': [1308, 230, 1614, 244, 1613, 329, 1306, 321], 'text': 'liquor', 'confidence': 'Low'}, {'boundingBox': [1652, 246, 1858, 259, 1857, 339, 1652, 331], 'text': 'jugs.', 'confidence': 'Low'}]}]}}\n",
      "{'status': 'Succeeded', 'recognitionResult': {'lines': [{'boundingBox': [8, 3, 1814, 23, 1812, 140, 6, 121], 'text': 'The quick brown fox jumps over the lazy', 'words': [{'boundingBox': [34, 10, 187, 13, 179, 116, 27, 111], 'text': 'The'}, {'boundingBox': [207, 14, 433, 18, 425, 123, 199, 116], 'text': 'quick'}, {'boundingBox': [453, 18, 738, 22, 730, 129, 445, 123], 'text': 'brown', 'confidence': 'Low'}, {'boundingBox': [758, 22, 905, 23, 895, 132, 750, 130], 'text': 'fox', 'confidence': 'Low'}, {'boundingBox': [931, 24, 1170, 25, 1161, 135, 922, 132], 'text': 'jumps'}, {'boundingBox': [1190, 25, 1403, 25, 1393, 137, 1180, 136], 'text': 'over'}, {'boundingBox': [1423, 25, 1569, 25, 1558, 138, 1412, 138], 'text': 'the'}, {'boundingBox': [1589, 25, 1815, 23, 1804, 138, 1578, 138], 'text': 'lazy', 'confidence': 'Low'}]}, {'boundingBox': [8, 209, 1857, 232, 1855, 340, 7, 317], 'text': 'Pack my box with five dozen liquor jugs.', 'words': [{'boundingBox': [10, 233, 188, 227, 186, 315, 7, 318], 'text': 'Pack'}, {'boundingBox': [205, 227, 344, 223, 342, 314, 202, 315], 'text': 'my'}, {'boundingBox': [389, 222, 534, 220, 531, 312, 386, 313], 'text': 'box', 'confidence': 'Low'}, {'boundingBox': [556, 219, 784, 219, 782, 313, 554, 312], 'text': 'with'}, {'boundingBox': [818, 219, 990, 222, 988, 315, 816, 313], 'text': 'five', 'confidence': 'Low'}, {'boundingBox': [1013, 222, 1241, 228, 1239, 319, 1011, 315], 'text': 'dozen'}, {'boundingBox': [1308, 230, 1614, 244, 1613, 329, 1306, 321], 'text': 'liquor', 'confidence': 'Low'}, {'boundingBox': [1652, 246, 1858, 259, 1857, 339, 1652, 331], 'text': 'jugs.', 'confidence': 'Low'}]}]}}\n"
     ]
    }
   ],
   "source": [
    "try:\n",
    "    conn = http.client.HTTPSConnection('brazilsouth.api.cognitive.microsoft.com')\n",
    "    conn.request(\"POST\", \"/vision/v2.1/recognizeText?%s\" % params, '{\"url\": \"https://upload.wikimedia.org/wikipedia/commons/d/dd/Cursive_Writing_on_Notebook_paper.jpg\"}', headers)\n",
    "    response = conn.getresponse()\n",
    "    \n",
    "    operationId = response.getheader('apim-request-id')\n",
    "    print(\"/vision/v2.1/textOperations/\"+ operationId)\n",
    "    \n",
    "    conn.request(\"GET\", \"/vision/v2.1/textOperations/\"+ operationId,\"{body}\", headers_get)\n",
    "    \n",
    "    poll = True\n",
    "    while (poll):\n",
    "        response_final = requests.get(\n",
    "            response.headers[\"Operation-Location\"], headers=headers)\n",
    "        analysis = response_final.json()\n",
    "        print(analysis)\n",
    "        time.sleep(1)\n",
    "        if (\"recognitionResults\" in analysis):\n",
    "            poll = False\n",
    "        if (\"status\" in analysis and analysis['status'] == 'Succeeded'):\n",
    "            poll = False\n",
    "        if (\"status\" in analysis and analysis['status'] == 'Failed'):\n",
    "            poll = False\n",
    "            \n",
    "    data = response_final.json()\n",
    "    print(data)\n",
    "    conn.close()\n",
    "except Exception as e:\n",
    "    print(\"error!\", e)\n"
   ]
  },
  {
   "cell_type": "code",
   "execution_count": 29,
   "metadata": {},
   "outputs": [],
   "source": [
    "text = ''\n",
    "for i in range(len(data['recognitionResult']['lines'])):\n",
    "        text = text + ' ' + data['recognitionResult']['lines'][i]['text']"
   ]
  },
  {
   "cell_type": "code",
   "execution_count": 30,
   "metadata": {},
   "outputs": [
    {
     "data": {
      "text/plain": [
       "' The quick brown fox jumps over the lazy Pack my box with five dozen liquor jugs.'"
      ]
     },
     "execution_count": 30,
     "metadata": {},
     "output_type": "execute_result"
    }
   ],
   "source": [
    "text"
   ]
  },
  {
   "cell_type": "markdown",
   "metadata": {},
   "source": [
    "![figura4](https://upload.wikimedia.org/wikipedia/commons/d/dd/Cursive_Writing_on_Notebook_paper.jpg)"
   ]
  },
  {
   "cell_type": "code",
   "execution_count": null,
   "metadata": {},
   "outputs": [],
   "source": []
  }
 ],
 "metadata": {
  "kernelspec": {
   "display_name": "Python 3",
   "language": "python",
   "name": "python3"
  },
  "language_info": {
   "codemirror_mode": {
    "name": "ipython",
    "version": 3
   },
   "file_extension": ".py",
   "mimetype": "text/x-python",
   "name": "python",
   "nbconvert_exporter": "python",
   "pygments_lexer": "ipython3",
   "version": "3.6.8"
  }
 },
 "nbformat": 4,
 "nbformat_minor": 2
}
