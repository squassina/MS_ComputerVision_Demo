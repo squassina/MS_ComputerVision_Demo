{
 "cells": [
  {
   "cell_type": "markdown",
   "metadata": {},
   "source": [
    "https://eastus.dev.cognitive.microsoft.com/docs/services/5cd27ec07268f6c679a3e641/operations/2afb498089f74080d7e196fc"
   ]
  },
  {
   "cell_type": "markdown",
   "metadata": {},
   "source": [
    "https://docs.microsoft.com/en-us/azure/cognitive-services/computer-vision/quickstarts/python-hand-text"
   ]
  },
  {
   "cell_type": "markdown",
   "metadata": {},
   "source": [
    "![image1](https://upload.wikimedia.org/wikipedia/commons/1/14/Bill_Gates_Letter_to_Hobbyists.jpg)"
   ]
  },
  {
   "cell_type": "code",
   "execution_count": 1,
   "metadata": {},
   "outputs": [],
   "source": [
    "import requests\n",
    "import time\n",
    "from io import BytesIO\n",
    "import os\n",
    "\n",
    "end_point = \"https://brazilsouth.api.cognitive.microsoft.com\"\n",
    "computer_vision_api =  \"/vision/v2.1/read/core/asyncBatchAnalyze\"\n",
    "text_recognition_url = end_point + computer_vision_api\n"
   ]
  },
  {
   "cell_type": "code",
   "execution_count": 2,
   "metadata": {
    "scrolled": true
   },
   "outputs": [],
   "source": [
    "def recog_text_web(data):\n",
    "    headers = {'Ocp-Apim-Subscription-Key': os.environ['OCP_APIM_SUBSCRIPTION_KEY']}\n",
    "    \n",
    "    response = requests.post(\n",
    "        text_recognition_url, headers=headers, json=data)\n",
    "    response.raise_for_status()\n",
    "    \n",
    "    operation_url = response.headers[\"Operation-Location\"]\n",
    "\n",
    "    analysis = {}\n",
    "    poll = True\n",
    "    while (poll):\n",
    "        response_final = requests.get(\n",
    "            response.headers[\"Operation-Location\"], headers=headers)\n",
    "        analysis = response_final.json()\n",
    "        # time.sleep(1)\n",
    "        if (\"recognitionResults\" in analysis):\n",
    "            poll = False\n",
    "        if (\"status\" in analysis and analysis['status'] == 'Failed'):\n",
    "            poll = False\n",
    "        if (\"status\" in analysis and analysis['status'] == 'Success'):\n",
    "            poll = False\n",
    "    \n",
    "    return(analysis)"
   ]
  },
  {
   "cell_type": "code",
   "execution_count": 3,
   "metadata": {
    "scrolled": true
   },
   "outputs": [],
   "source": [
    "def recog_text_local(data):\n",
    "    import requests\n",
    "    import time\n",
    "    from io import BytesIO\n",
    "\n",
    "    headers = {\n",
    "    # Request headers\n",
    "        'Content-Type': 'application/octet-stream',\n",
    "        'Ocp-Apim-Subscription-Key': os.environ['OCP_APIM_SUBSCRIPTION_KEY'],\n",
    "    }\n",
    "    \n",
    "    response = requests.post(\n",
    "        text_recognition_url, headers=headers, data=data)\n",
    "    response.raise_for_status()\n",
    "    \n",
    "    operation_url = response.headers[\"Operation-Location\"]\n",
    "\n",
    "    analysis = {}\n",
    "    poll = True\n",
    "    while (poll):\n",
    "        response_final = requests.get(\n",
    "            response.headers[\"Operation-Location\"], headers=headers)\n",
    "        analysis = response_final.json()\n",
    "        # time.sleep(1)\n",
    "        if (\"recognitionResults\" in analysis):\n",
    "            poll = False\n",
    "        if (\"status\" in analysis and analysis['status'] == 'Failed'):\n",
    "            poll = False\n",
    "        if (\"status\" in analysis and analysis['status'] == 'Success'):\n",
    "            poll = False\n",
    "    \n",
    "    return(analysis)"
   ]
  },
  {
   "cell_type": "markdown",
   "metadata": {},
   "source": [
    "# PDF - Web"
   ]
  },
  {
   "cell_type": "code",
   "execution_count": 4,
   "metadata": {},
   "outputs": [],
   "source": [
    "source_url = \"https://upload.wikimedia.org/wikipedia/commons/f/f9/Bill_Gates_Letter_to_Hobbyists_ocr.pdf\"\n",
    "data = {'url': source_url}\n",
    "\n",
    "analysis = recog_text_web(data)"
   ]
  },
  {
   "cell_type": "code",
   "execution_count": 5,
   "metadata": {},
   "outputs": [],
   "source": [
    "text = ''\n",
    "for i1 in range(len(analysis['recognitionResults'])):\n",
    "    for i2 in range(len(analysis['recognitionResults'][i1]['lines'])):\n",
    "        text = text + ' ' + analysis['recognitionResults'][i1]['lines'][i2]['text']"
   ]
  },
  {
   "cell_type": "code",
   "execution_count": 6,
   "metadata": {
    "scrolled": true
   },
   "outputs": [
    {
     "data": {
      "text/plain": [
       "' -2- February 3, 1976 An Open Letter to Hobbyists To me, the most critical thing in the hobby market right now is the lack of good software courses, books and software itself. Without good software and an owner who understands programming, a hobby market? hobby computer is wasted. Will quality software be written for the Almost a year ago, Paul Allen and myself, expecting the hobby market to expand, hired Monte Davidoff and developed Altair BASIC. Though the initial work took only two months, the three of us have spent most of the last year documenting, improving and adding fea- tures to BASIC. Now we have 4K, 8K, EXTENDED, ROM and DISK BASIC. The value of the computer time we have used exceeds $40,000. The feedback we have gotten from the hundreds of people who say they are using BASIC has all been positive. Two surprising things are apparent, however. 1) Most of these \"users\" never bought BASIC (less than 10% of all Altair owners have bought BASIC), and 2) The amount of royalties we have received from sales to hobbyists makes the time spent of Altair BASIC worth less than $2 an hour. Why is this? As the majority of hobbyists must be aware, most of you steal your software. Hardware must be paid for, but soft- ware is something to share. Who cares if the people who worked on it get paid? I\\'s this fair? One thing you don\\'t do by stealing software is get back at MITS for some problem you may have had. MITS doesn\\'t make money selling software. The royalty paid to us, the manual, the tape and the overhead make it a break-even operation. One thing you do do is prevent good software from being written. Who can af- ford to do professional work for nothing? What hobbyist can put 3-man years into programming, finding all bugs, documenting his pro- duct and distribute for free? The fact is, no one besides us has invested a lot of money in hobby software. We have written 6800 BASIC, and are writing 8080 APL and 6800 APL, but there is very lit- tle incentive to make this software available to hobbyists. Most directly, the thing you do is theft. What about the guys who re-sell Altair BASIC, aren\\'t they mak- ing money on hobby software? Yes, but those who have been reported to us may lose in the end. They are the ones who give hobbyists a bad name, and should be kicked out of any club meeting they show up at. I would appreciate letters from any one who wants to pay up, or has a suggestion or comment. Just write me at 1180 Alvarado SE, #114, Albuquerque, New Mexico, 87108. Nothing would please me more than being able to hire ten programmers and deluge the hobby market with good software. Bill Dates Bill Gates General Partner, Micro-Soft'"
      ]
     },
     "execution_count": 6,
     "metadata": {},
     "output_type": "execute_result"
    }
   ],
   "source": [
    "text"
   ]
  },
  {
   "cell_type": "markdown",
   "metadata": {},
   "source": [
    "# PDF - Local"
   ]
  },
  {
   "cell_type": "code",
   "execution_count": 7,
   "metadata": {},
   "outputs": [],
   "source": [
    "# Set image_path to the local path of an image that you want to analyze.\n",
    "image_path = \"./Bill_Gates_Letter_to_Hobbyists_ocr.pdf\"\n",
    "\n",
    "# Read the image into a byte array\n",
    "data = open(image_path, \"rb\").read()\n",
    "\n",
    "analysis = recog_text_local(data)"
   ]
  },
  {
   "cell_type": "code",
   "execution_count": 8,
   "metadata": {},
   "outputs": [],
   "source": [
    "text = ''\n",
    "for i1 in range(len(analysis['recognitionResults'])):\n",
    "    for i2 in range(len(analysis['recognitionResults'][i1]['lines'])):\n",
    "        text = text + ' ' + analysis['recognitionResults'][i1]['lines'][i2]['text']"
   ]
  },
  {
   "cell_type": "code",
   "execution_count": 9,
   "metadata": {},
   "outputs": [
    {
     "data": {
      "text/plain": [
       "' -2- February 3, 1976 An Open Letter to Hobbyists To me, the most critical thing in the hobby market right now is the lack of good software courses, books and software itself. Without good software and an owner who understands programming, a hobby market? hobby computer is wasted. Will quality software be written for the Almost a year ago, Paul Allen and myself, expecting the hobby market to expand, hired Monte Davidoff and developed Altair BASIC. Though the initial work took only two months, the three of us have spent most of the last year documenting, improving and adding fea- tures to BASIC. Now we have 4K, 8K, EXTENDED, ROM and DISK BASIC. The value of the computer time we have used exceeds $40,000. The feedback we have gotten from the hundreds of people who say they are using BASIC has all been positive. Two surprising things are apparent, however. 1) Most of these \"users\" never bought BASIC (less than 10% of all Altair owners have bought BASIC), and 2) The amount of royalties we have received from sales to hobbyists makes the time spent of Altair BASIC worth less than $2 an hour. Why is this? As the majority of hobbyists must be aware, most of you steal your software. Hardware must be paid for, but soft- ware is something to share. Who cares if the people who worked on it get paid? I\\'s this fair? One thing you don\\'t do by stealing software is get back at MITS for some problem you may have had. MITS doesn\\'t make money selling software. The royalty paid to us, the manual, the tape and the overhead make it a break-even operation. One thing you do do is prevent good software from being written. Who can af- ford to do professional work for nothing? What hobbyist can put 3-man years into programming, finding all bugs, documenting his pro- duct and distribute for free? The fact is, no one besides us has invested a lot of money in hobby software. We have written 6800 BASIC, and are writing 8080 APL and 6800 APL, but there is very lit- tle incentive to make this software available to hobbyists. Most directly, the thing you do is theft. What about the guys who re-sell Altair BASIC, aren\\'t they mak- ing money on hobby software? Yes, but those who have been reported to us may lose in the end. They are the ones who give hobbyists a bad name, and should be kicked out of any club meeting they show up at. I would appreciate letters from any one who wants to pay up, or has a suggestion or comment. Just write me at 1180 Alvarado SE, #114, Albuquerque, New Mexico, 87108. Nothing would please me more than being able to hire ten programmers and deluge the hobby market with good software. Bill Dates Bill Gates General Partner, Micro-Soft'"
      ]
     },
     "execution_count": 9,
     "metadata": {},
     "output_type": "execute_result"
    }
   ],
   "source": [
    "text"
   ]
  },
  {
   "cell_type": "markdown",
   "metadata": {},
   "source": [
    "# Image - Web"
   ]
  },
  {
   "cell_type": "code",
   "execution_count": 10,
   "metadata": {},
   "outputs": [],
   "source": [
    "# Set image_path to the local path of an image that you want to analyze.\n",
    "source_url = \"https://upload.wikimedia.org/wikipedia/commons/1/14/Bill_Gates_Letter_to_Hobbyists.jpg\"\n",
    "data = {'url': source_url}\n",
    "\n",
    "analysis = recog_text_web(data)"
   ]
  },
  {
   "cell_type": "code",
   "execution_count": 11,
   "metadata": {},
   "outputs": [],
   "source": [
    "text = ''\n",
    "for i1 in range(len(analysis['recognitionResults'])):\n",
    "    for i2 in range(len(analysis['recognitionResults'][i1]['lines'])):\n",
    "        text = text + ' ' + analysis['recognitionResults'][i1]['lines'][i2]['text']"
   ]
  },
  {
   "cell_type": "code",
   "execution_count": 12,
   "metadata": {},
   "outputs": [
    {
     "data": {
      "text/plain": [
       "' -2- February 3, 1976 An Open Letter to Hobbyists To me, the most critical thing in the hobby market right now is the lack of good software courses, books and software itself. Without good software and an owner who understands programming, a hobby computer is wasted. Will quality software be written for the hobby market? Almost a year ago, Paul Allen and myself, expecting the hobby market to expand, hired Monte Davidoff and developed Altair BASIC. Though the initial work took only two months, the three of us have spent most of the last year documenting, improving and adding fea- tures to BASIC. Now we have 4K, 8K, EXTENDED, ROM and DISK BASIC. The value of the computer time we have used exceeds $40,000. The feedback we have gotten from the hundreds of people who say they are using BASIC has all been positive. Two surprising things are apparent, however. 1) Most of these \"users\" never bought BASIC (less than 10% of all Altair owners have bought BASIC) , and 2) The amount of royalties we have received from sales to hobbyists makes the time spent of Altair BASIC worth less than $2 an hour. Why is this? As the majority of hobbyists must be aware, most of you steal your software. Hardware must be paid for, but soft- ware is something to share. Who cares if the people who worked on it get paid? I\\'s this fair? One thing you don\\'t do by stealing software is get back at MITS for some problem you may have had. MITS doesn\\'t make money selling software. The. royalty paid to us, the manual, the tape and the overhead make it a break-even operation. One thing you do do is prevent good software from being written. Who can af- ford to do professional work for nothing? What hobbyist can put 3-man years into programming, finding all bugs, documenting his pro- duct and distribute for free? The fact is, no one besides us has invested a lot of money in hobby software. We have written 6800 BASIC, and are writing 8080 APL and 6800 APL, but there is very lit- tle incentive to make this software available to hobbyists. Most directly, the thing you do is theft. What about the guys who re-sell Altair BASIC, aren\\'t they mak- ing money on hobby software? Yes, but those who have been reported to us may lose in the end. They are the ones who give hobbyists a bad name, and should be kicked out of any club meeting they show up at. I would appreciate letters from any one who wants to pay up, or has a suggestion or comment. Just write me at 1180 Alvarado SE, #114, Albuquerque, New Mexico, 87108. Nothing would please me more than being able to hire ten programmers and deluge the hobby market with good software. Bill Gates Bill Gates General Partner, Micro-Soft'"
      ]
     },
     "execution_count": 12,
     "metadata": {},
     "output_type": "execute_result"
    }
   ],
   "source": [
    "text"
   ]
  },
  {
   "cell_type": "markdown",
   "metadata": {},
   "source": [
    "# Image - Local"
   ]
  },
  {
   "cell_type": "code",
   "execution_count": 13,
   "metadata": {},
   "outputs": [],
   "source": [
    "# Set image_path to the local path of an image that you want to analyze.\n",
    "image_path = \"./Bill_Gates_Letter_to_Hobbyists.jpg\"\n",
    "\n",
    "# Read the image into a byte array\n",
    "data = open(image_path, \"rb\").read()\n",
    "\n",
    "analysis = recog_text_local(data)"
   ]
  },
  {
   "cell_type": "code",
   "execution_count": 14,
   "metadata": {},
   "outputs": [],
   "source": [
    "text = ''\n",
    "for i1 in range(len(analysis['recognitionResults'])):\n",
    "    for i2 in range(len(analysis['recognitionResults'][i1]['lines'])):\n",
    "        text = text + ' ' + analysis['recognitionResults'][i1]['lines'][i2]['text']"
   ]
  },
  {
   "cell_type": "code",
   "execution_count": 15,
   "metadata": {},
   "outputs": [
    {
     "data": {
      "text/plain": [
       "' -2- February 3, 1976 An Open Letter to Hobbyists To me, the most critical thing in the hobby market right now is the lack of good software courses, books and software itself. Without good software and an owner who understands programming, a hobby computer is wasted. Will quality software be written for the hobby market? Almost a year ago, Paul Allen and myself, expecting the hobby market to expand, hired Monte Davidoff and developed Altair BASIC. Though the initial work took only two months, the three of us have spent most of the last year documenting, improving and adding fea- tures to BASIC. Now we have 4K, 8K, EXTENDED, ROM and DISK BASIC. The value of the computer time we have used exceeds $40,000. The feedback we have gotten from the hundreds of people who say they are using BASIC has all been positive. Two surprising things are apparent, however. 1) Most of these \"users\" never bought BASIC (less than 10% of all Altair owners have bought BASIC) , and 2) The amount of royalties we have received from sales to hobbyists makes the time spent of Altair BASIC worth less than $2 an hour. Why is this? As the majority of hobbyists must be aware, most of you steal your software. Hardware must be paid for, but soft- ware is something to share. Who cares if the people who worked on it get paid? I\\'s this fair? One thing you don\\'t do by stealing software is get back at MITS for some problem you may have had. MITS doesn\\'t make money selling software. The. royalty paid to us, the manual, the tape and the overhead make it a break-even operation. One thing you do do is prevent good software from being written. Who can af- ford to do professional work for nothing? What hobbyist can put 3-man years into programming, finding all bugs, documenting his pro- duct and distribute for free? The fact is, no one besides us has invested a lot of money in hobby software. We have written 6800 BASIC, and are writing 8080 APL and 6800 APL, but there is very lit- tle incentive to make this software available to hobbyists. Most directly, the thing you do is theft. What about the guys who re-sell Altair BASIC, aren\\'t they mak- ing money on hobby software? Yes, but those who have been reported to us may lose in the end. They are the ones who give hobbyists a bad name, and should be kicked out of any club meeting they show up at. I would appreciate letters from any one who wants to pay up, or has a suggestion or comment. Just write me at 1180 Alvarado SE, #114, Albuquerque, New Mexico, 87108. Nothing would please me more than being able to hire ten programmers and deluge the hobby market with good software. Bill Gates Bill Gates General Partner, Micro-Soft'"
      ]
     },
     "execution_count": 15,
     "metadata": {},
     "output_type": "execute_result"
    }
   ],
   "source": [
    "text"
   ]
  }
 ],
 "metadata": {
  "kernelspec": {
   "display_name": "Python 3",
   "language": "python",
   "name": "python3"
  },
  "language_info": {
   "codemirror_mode": {
    "name": "ipython",
    "version": 3
   },
   "file_extension": ".py",
   "mimetype": "text/x-python",
   "name": "python",
   "nbconvert_exporter": "python",
   "pygments_lexer": "ipython3",
   "version": "3.6.8"
  }
 },
 "nbformat": 4,
 "nbformat_minor": 2
}
